{
 "cells": [
  {
   "cell_type": "markdown",
   "metadata": {},
   "source": [
    "# Building a FAISS-Based Vector Store: A Journey Through Data Processing and Visualization\n",
    "\n",
    "In this notebook, you'll learn how to transform raw PDF documents into a searchable vector store using FAISS. We'll go on a journey where we:\n",
    "\n",
    "1. **Read and extract text from PDF files.**\n",
    "2. **Split the text into manageable chunks.**\n",
    "3. **Display tokenization outputs from different tokenizers.**\n",
    "4. **Generate embeddings from the text using a SentenceTransformer.**\n",
    "5. **Store the embeddings in a FAISS index.**\n",
    "6. **Project the embeddings into 2D space using UMAP for visualization.**\n",
    "7. **Visualize the entire process on a scatter plot.**\n",
    "8. **Incect your data into a prompt for a large language model**"
   ]
  },
  {
   "cell_type": "code",
   "execution_count": 7,
   "metadata": {},
   "outputs": [],
   "source": [
    "import os\n",
    "import tqdm\n",
    "import glob\n",
    "from PyPDF2 import PdfReader\n",
    "from langchain.text_splitter import RecursiveCharacterTextSplitter\n",
    "from sentence_transformers import SentenceTransformer\n",
    "from langchain.text_splitter import SentenceTransformersTokenTextSplitter\n",
    "from langchain_community.embeddings import HuggingFaceEmbeddings  # For generating embeddings for text chunks\n",
    "import faiss\n",
    "import pickle\n",
    "import matplotlib.pyplot as plt\n",
    "import umap.umap_ as umap\n",
    "import numpy as np\n",
    "from dotenv import load_dotenv\n",
    "from groq import Groq\n"
   ]
  },
  {
   "cell_type": "markdown",
   "metadata": {},
   "source": [
    "## 1. Reading Data from PDFs\n",
    "\n",
    "First, we load PDF files from a directory, extract their text content, and combine it into one large text string."
   ]
  },
  {
   "cell_type": "code",
   "execution_count": 8,
   "metadata": {},
   "outputs": [
    {
     "name": "stderr",
     "output_type": "stream",
     "text": [
      " 11%|█         | 1/9 [00:00<00:01,  5.82it/s]"
     ]
    },
    {
     "name": "stdout",
     "output_type": "stream",
     "text": [
      "<_io.BufferedReader name='data\\\\02_Merkblatt_Vermeidung-von-Plagiaten_0916.pdf'>\n",
      "<_io.BufferedReader name='data\\\\05_Checkliste_Sprachliche_Formale_Ausarbeitung.pdf'>\n"
     ]
    },
    {
     "name": "stderr",
     "output_type": "stream",
     "text": [
      " 22%|██▏       | 2/9 [00:00<00:01,  5.36it/s]"
     ]
    },
    {
     "name": "stdout",
     "output_type": "stream",
     "text": [
      "<_io.BufferedReader name='data\\\\Bibliotheksangebot_Bachelorarbeit_HS24FS25.pdf'>\n",
      "<_io.BufferedReader name='data\\\\Schwerpunktthemen_fuer_Studenten.pdf'>\n"
     ]
    },
    {
     "name": "stderr",
     "output_type": "stream",
     "text": [
      " 44%|████▍     | 4/9 [00:00<00:00,  6.29it/s]"
     ]
    },
    {
     "name": "stdout",
     "output_type": "stream",
     "text": [
      "<_io.BufferedReader name='data\\\\W_MB_Merkblatt_Bachelorarbeit_BSc.pdf'>\n"
     ]
    },
    {
     "name": "stderr",
     "output_type": "stream",
     "text": [
      " 56%|█████▌    | 5/9 [00:01<00:01,  3.10it/s]"
     ]
    },
    {
     "name": "stdout",
     "output_type": "stream",
     "text": [
      "<_io.BufferedReader name='data\\\\ZHAW_Zitierleitfaden_DE.pdf'>\n"
     ]
    },
    {
     "name": "stderr",
     "output_type": "stream",
     "text": [
      " 67%|██████▋   | 6/9 [00:02<00:01,  1.52it/s]"
     ]
    },
    {
     "name": "stdout",
     "output_type": "stream",
     "text": [
      "<_io.BufferedReader name='data\\\\Z_MB_Merkblatt_Verwendung_von_generativer_KI_in_Arbeiten.pdf'>\n"
     ]
    },
    {
     "name": "stderr",
     "output_type": "stream",
     "text": [
      " 78%|███████▊  | 7/9 [00:03<00:01,  1.77it/s]"
     ]
    },
    {
     "name": "stdout",
     "output_type": "stream",
     "text": [
      "<_io.BufferedReader name='data\\\\Z_RL_Richtlinie_Anhang_Deklarationspflicht_KI_bei_Arbeiten.pdf'>\n"
     ]
    },
    {
     "name": "stderr",
     "output_type": "stream",
     "text": [
      " 89%|████████▉ | 8/9 [00:03<00:00,  2.02it/s]"
     ]
    },
    {
     "name": "stdout",
     "output_type": "stream",
     "text": [
      "<_io.BufferedReader name='data\\\\Z_RL_Richtlinie_KI_bei_Leistungsnachweisen.pdf'>\n"
     ]
    },
    {
     "name": "stderr",
     "output_type": "stream",
     "text": [
      "100%|██████████| 9/9 [00:03<00:00,  2.37it/s]\n"
     ]
    },
    {
     "data": {
      "text/plain": [
       "' \\n \\n \\n \\n \\n \\n2.2.5.1 -01MB Vermeidung von Plagiaten'"
      ]
     },
     "execution_count": 8,
     "metadata": {},
     "output_type": "execute_result"
    }
   ],
   "source": [
    "### load the pdf from the path\n",
    "glob_path = \"data/*.pdf\"\n",
    "text = \"\"\n",
    "for pdf_path in tqdm.tqdm(glob.glob(glob_path)):\n",
    "    with open(pdf_path, \"rb\") as file:\n",
    "        print(file)\n",
    "        reader = PdfReader(file)\n",
    "        # Extract text from all pages in the PDF\n",
    "        text += \" \".join(page.extract_text() for page in reader.pages if page.extract_text())\n",
    "\n",
    "text[:50]"
   ]
  },
  {
   "cell_type": "markdown",
   "metadata": {},
   "source": [
    "## 2. Splitting the Text into Chunks\n",
    "\n",
    "Large texts can be difficult to work with. We use a text splitter, in this case [RecursiveCharacterTextSplitter](https://python.langchain.com/docs/how_to/recursive_text_splitter/),  to break the full text into smaller, overlapping chunks. This helps preserve context when we later embed the text."
   ]
  },
  {
   "cell_type": "code",
   "execution_count": 9,
   "metadata": {},
   "outputs": [],
   "source": [
    "# Create a splitter: 2000 characters per chunk with an overlap of 200 characters\n",
    "splitter = RecursiveCharacterTextSplitter(chunk_size=2000, chunk_overlap=200)\n",
    "# Split the extracted text into manageable chunks\n",
    "chunks = splitter.split_text(text)"
   ]
  },
  {
   "cell_type": "code",
   "execution_count": 10,
   "metadata": {},
   "outputs": [
    {
     "name": "stdout",
     "output_type": "stream",
     "text": [
      "Total chunks: 61\n",
      "Preview of the first chunk: 2.2.5.1 -01MB Vermeidung von Plagiaten  Dok.- Verantw.:  mart \n",
      "Version 2.0   \n",
      ". \n",
      "Genehmigt  19.9.12  durch: Generalsekretär   Seite 1 von 2 \n",
      " Rektorat  \n",
      " \n",
      "Ressort Lehre  \n",
      " \n",
      "Merkblatt zur Vermeidung vo\n"
     ]
    }
   ],
   "source": [
    "print(f\"Total chunks: {len(chunks)}\")\n",
    "print(\"Preview of the first chunk:\", chunks[0][:200])"
   ]
  },
  {
   "cell_type": "markdown",
   "metadata": {},
   "source": [
    "## 3. Tokenizing the Text with Different Tokenizers\n",
    "\n",
    "Before embedding, it's insightful to see how different tokenizers break up our text. Here, we use the tokenizer from the SentenceTransformer model (see [SentenceTransformersTokenTextSplitter](https://python.langchain.com/api_reference/text_splitters/sentence_transformers/langchain_text_splitters.sentence_transformers.SentenceTransformersTokenTextSplitter.html#sentencetransformerstokentextsplitter))."
   ]
  },
  {
   "cell_type": "code",
   "execution_count": 11,
   "metadata": {},
   "outputs": [],
   "source": [
    "token_splitter = SentenceTransformersTokenTextSplitter(chunk_overlap=0, tokens_per_chunk=128, model_name=\"paraphrase-multilingual-MiniLM-L12-v2\")"
   ]
  },
  {
   "cell_type": "code",
   "execution_count": 12,
   "metadata": {},
   "outputs": [
    {
     "name": "stdout",
     "output_type": "stream",
     "text": [
      "\n",
      "Total chunks: 252\n",
      "2.2.5.1 -01MB Vermeidung von Plagiaten Dok.- Verantw.: mart Version 2.0 . Genehmigt 19.9.12 durch: Generalsekretär Seite 1 von 2 Rektorat Ressort Lehre Merkblatt zur Vermeidung von Plagiaten Plagiate verstossen gegen grundlegende Regeln wissenschaftlichen Arbeitens. Entsprechend s e- hen das Gesetz und die Rahmenprüfungsordnung für Bachelor - und Masterstudi engänge der ZHAW (RPO) in Plagiatsfällen zum Teil gravierende Sanktionen für Studierende vor. Dieses Mer k- blatt soll \n"
     ]
    }
   ],
   "source": [
    "token_split_texts = []\n",
    "for text in chunks:\n",
    "    token_split_texts += token_splitter.split_text(text)\n",
    "\n",
    "print(f\"\\nTotal chunks: {len(token_split_texts)}\")\n",
    "print(token_split_texts[0])"
   ]
  },
  {
   "cell_type": "code",
   "execution_count": 13,
   "metadata": {},
   "outputs": [
    {
     "name": "stdout",
     "output_type": "stream",
     "text": [
      "Chunk 0: ['<s>', '▁2.2', '.', '5.1', '▁', '-01', 'MB', '▁Verme', 'i', 'dung', '▁von', '▁Pla', 'gia', 'ten', '▁Dok', '.', '-', '▁Ver', 'ant', 'w', '.', ':', '▁mart', '▁Version', '▁2.0', '▁', '.', '▁Ge', 'nehm', 'igt', '▁19', '.9.', '12', '▁durch', ':', '▁General', 'sekretär', '▁Seite', '▁1', '▁von', '▁2', '▁Rektor', 'at', '▁Res', 'sort', '▁Lehr', 'e', '▁Merk', 'blatt', '▁zur', '▁Verme', 'i', 'dung', '▁von', '▁Pla', 'gia', 'ten', '▁Pla', 'gia', 'te', '▁vers', 'to', 'ssen', '▁gegen', '▁grundlegende', '▁Regeln', '▁', 'wissenschaftlich', 'en', '▁Arbeiten', 's', '.', '▁Ent', 'sprechen', 'd', '▁s', '▁e', '-', '▁hen', '▁das', '▁Gesetz', '▁und', '▁die', '▁Rahmen', 'prüfung', 's', 'ordnung', '▁für', '▁Bachelor', '▁-', '▁und', '▁Master', 'studi', '▁en', 'gänge', '▁der', '▁Z', 'HA', 'W', '▁(', 'R', 'PO', ')', '▁in', '▁Pla', 'gia', 'ts', 'fälle', 'n', '▁zum', '▁Teil', '▁gravi', 'erende', '▁San', 'ktion', 'en', '▁für', '▁Studi', 'erende', '▁vor', '.', '▁Dieses', '▁Mer', '▁k', '-', '▁', 'blatt', '</s>']\n",
      "Chunk 1: ['<s>', '▁', 'einerseits', '▁helfen', ',', '▁Pla', 'gia', 'te', '▁und', '▁deren', '▁Folgen', '▁zu', '▁vermeiden', ',', '▁anderer', 'seits', '▁die', '▁W', 'isse', '▁n', '-', '▁', 'schaft', 'lichkeit', '▁student', 'ischer', '▁Ar', 'be', '▁i', 'ten', '▁gewährleisten', '▁', '.', '▁Was', '▁gilt', '▁als', '▁Pla', 'gia', 't', '?', '▁Von', '▁einem', '▁Pla', 'gia', 't', '▁spricht', '▁man', ',', '▁wenn', '▁ein', '▁frem', 'des', '▁Werk', '1', '▁ganz', '▁oder', '▁teilweise', '▁ohne', '▁Quelle', 'nan', 'gabe', '▁übernommen', '▁und', '▁als', '▁eigene', 's', '▁Werk', '▁aus', 'gegeben', '▁wird', '.', '▁Dem', 'zu', 'folge', '▁fallen', '▁beispielsweise', '▁folgende', '▁Handlung', 'en', '▁einer', '▁Ver', 'fa', 'sser', 'in', '/', 'e', 'ines', '▁Ver', 'fa', 'sser', 's', '▁unter', '▁den', '▁Pla', 'gia', 'ts', 'be', 'griff', ':', '▁-', '▁Ein', '▁frem', 'des', '▁Werk', '▁wird', '▁unter', '▁dem', '▁eigenen', '▁Namen', '▁einge', 'reich', 't', '▁(', '▁Voll', 'pla', 'gia', 't', '▁', ');', '▁-', '▁ein', '▁Werk', ',', '▁das', '▁von', '▁einer', '▁ander', '</s>']\n",
      "Chunk 2: ['<s>', '▁oder', '▁teilweise', '▁im', '▁Auftrag', '▁erstellt', '▁wurde', ',', '▁wird', '▁unter', '▁dem', '▁eigenen', '▁Namen', '▁einge', 'reich', 't', '▁(', 's', 'og', '.', '▁Ghost', 'writing', '▁', ');', '▁-', '▁frem', 'd', 'spr', 'ach', 'ige', '▁Texte', '▁oder', '▁Teile', '▁davon', '▁werden', '▁von', '▁der', '▁Ver', 'fa', 'sser', 'in', '/', 'vom', '▁Ver', 'fa', 'sser', '▁ü', 'be', '▁r', '-', '▁setzt', '▁und', '▁ohne', '▁Quelle', 'nan', 'gabe', '▁als', '▁eigene', '▁Texte', '▁aus', 'gegeben', '▁(', '▁Übersetzung', 'sp', 'lagi', 'at', '▁', ');', '▁-', '▁Teile', '▁aus', '▁einem', '▁frem', 'den', '▁Werk', '▁werden', '▁un', 'ver', 'änder', 't', '▁über', 'no', '▁', 'mmen', ',', '▁ohne', '▁die', '▁Quelle', '▁mit', '▁e', '▁i', '-', '▁nem', '▁Z', 'itat', '▁zu', '▁ken', 'n', 'zeichnen', '.', '▁Dies', '▁betrifft', '▁auch', '▁die', '▁Verwendung', '▁von', '▁Teil', 'en', '▁eines', '▁Werk', 'es', '▁aus', '▁dem', '▁Internet', ',', '▁aber', '▁auch', '▁z', '.', 'B', '.', '▁Labor', 'bericht', 'e', '▁etc', '.', ';', '</s>']\n",
      "Chunk 3: ['<s>', '▁aus', '▁einem', '▁frem', 'den', '▁Werk', '▁werden', '▁übernommen', ',', '▁text', 'lich', '▁leicht', '▁angepasst', '▁oder', '▁um', 'g', '▁e', '-', '▁stellt', '▁(', 'Para', 'phra', 's', 'ierung', '▁', '),', '▁aber', '▁nicht', '▁mit', '▁einer', '▁Quelle', 'nan', 'gabe', '▁ver', 'sehen', '▁;', '▁-', '▁Teile', '▁aus', '▁einem', '▁frem', 'den', '▁Werk', '▁werden', '▁übernommen', ',', '▁evt', 'l', '.', '▁abge', 'änder', 't', '▁oder', '▁para', 'phra', 's', 'iert', '▁', '.', '▁Auf', '▁die', '▁entsprechende', '▁Quelle', '▁wird', '▁zwar', '▁ver', 'wiesen', ',', '▁sie', '▁wird', '▁aber', '▁nicht', '▁im', '▁Kon', 'text', '▁der', '</s>']\n",
      "Chunk 4: ['<s>', '▁-', '▁Teile', '▁aus', '▁einem', '▁frem', 'den', '▁Werk', '▁werden', '▁übernommen', ',', '▁evt', 'l', '.', '▁abge', 'änder', 't', '▁oder', '▁para', 'phra', 's', 'iert', '▁', '.', '▁Auf', '▁die', '▁entsprechende', '▁Quelle', '▁wird', '▁zwar', '▁ver', 'wiesen', ',', '▁sie', '▁wird', '▁aber', '▁nicht', '▁im', '▁Kon', 'text', '▁der', '▁übernommen', 'en', '▁Teile', '▁des', '▁Werk', 'es', '▁angegeben', '▁(', 'Be', 'i', 'spiel', ':', '▁Ver', 'stecken', '▁der', '▁plag', 'i', 'ierten', '▁Quelle', '▁in', '▁einer', '▁Fu', 's', 's', 'note', '▁am', '▁Ende', '▁der', '▁Arbeit', ').', '▁E', 'ben', 'falls', '▁un', 'zu', 'lässig', '▁und', '▁im', '▁weiteren', '▁Sinne', '▁zu', '▁den', '▁Pla', 'gia', 'ten', '▁gehören', '▁Fälle', ',', '▁in', '▁denen', '▁diesel', 'be', '▁A', '▁r', '-', '▁bei', 't', '▁oder', '▁Teile', '▁davon', '▁von', '▁der', '▁Ver', 'fa', 'sser', 'in', '/', 'vom', '▁Ver', 'fa', 'sser', '▁zu', '▁verschiedenen', '▁Prüfung', 's', '▁-', '▁oder', '▁Pro', 'm', '▁o', '-', '▁', 'tions', 'an', 'lä', 'ssen', '</s>']\n",
      "Chunk 5: ['<s>', '▁t', '▁werden', '▁(', '▁Selbst', 'pla', 'gia', 't', '▁', ').', '▁Grundlage', 'n', 'wis', 'sen', ',', '▁das', '▁in', '▁einem', '▁bestimmten', '▁Fach', 'gebiet', '▁als', '▁allgemein', 'es', '▁Wissen', '▁voraus', 'gesetzt', '▁werden', '▁darf', ',', '▁muss', '▁zwar', '▁grundsätzlich', '▁nicht', '▁zit', 'iert', '▁werden', '.', '▁Wir', 'd', '▁allerdings', '▁eine', '▁spezielle', '▁Dar', 'ste', '▁l', '-', '▁lung', '▁dieses', '▁Wissen', 's', '▁aus', '▁einer', '▁Quelle', ',', '▁z', '.', 'B', '.', '▁aus', '▁einem', '▁Lehr', 'buch', ',', '▁übernommen', ',', '▁muss', '▁auf', '▁die', '▁Que', '▁l', '-', '▁le', '▁hin', '▁ge', 'wiesen', '▁werden', '▁', '.', '▁1', '▁Unter', '▁einem', '▁Werk', '▁im', '▁Sinne', '▁des', '▁Urheberrecht', 's', 'gesetz', 'es', '▁(', 'Art', '.', '▁2)', '▁werden', '▁geistige', '▁Sch', 'öp', 'fung', 'en', '▁mit', '▁individuelle', 'm', '▁Ch', '▁a', '-', '▁rakt', 'er', '▁ver', 'standen', '.', '▁Dazu', '▁gehören', '▁insbesondere', '▁literar', 'ische', ',', '▁', 'wissenschaftlich', 'e', '▁und', '▁andere', '▁Sprach', 'werk', 'e', ',', '▁Werk', '</s>']\n",
      "Chunk 6: ['<s>', '▁M', '▁u', '-', '▁si', 'k', '▁und', '▁andere', '▁aku', 's', 'tische', '▁Werk', 'e', ',', '▁Werk', 'e', '▁der', '▁bilden', 'den', '▁Kunst', ',', '▁insbesondere', '▁der', '▁Mal', 'erei', ',', '▁der', '▁Bild', 'hau', 'erei', '▁und', '▁der', '▁Grafik', ',', '▁Werk', 'e', '▁mit', '▁', 'wissenschaftlich', 'em', '▁oder', '▁technische', 'm', '▁Inhalt', '▁wie', '▁Ze', 'ich', 'n', 'ungen', ',', '▁Pläne', ',', '▁Karten', '▁oder', '▁plast', 'ische', '▁Darstellung', 'en', ',', '▁Werk', 'e', '▁der', '▁Bau', 'kunst', ',', '▁Werk', 'e', '▁der', '▁ange', 'wand', 'ten', '▁Kunst', ',', '▁fotograf', 'ische', ',', '▁film', 'ische', '▁oder', '▁andere', '▁visuel', 'le', '▁oder', '▁audio', 'vis', 'u', 'elle', '▁Werk', 'e', ',', '▁cho', 'reo', 'graph', 'ische', '▁Werk', 'e', '▁und', '▁Pan', 'tomi', 'me', '▁sowie', '▁Computer', 'programm', 'e', '▁(', 'Art', '.', '▁2', '▁Abs', '.', '▁2', '▁u', '▁', 'nd', '▁3', '▁U', 'RG', ').', '▁E', 'ben', 'falls', '▁vom', '▁Urheberrecht', 's', 'gesetz', '▁geschützt', '▁sind', '</s>']\n",
      "Chunk 7: ['<s>', '▁', ',', '▁Titel', '▁und', '▁Teile', '▁von', '▁Werk', 'en', ',', '▁sofern', '▁es', '▁sich', '▁um', '▁geistige', '▁Sch', 'öp', 'fung', 'en', '▁mit', '▁individuelle', 'm', '▁Charakter', '▁handelt', '▁(', 'Ab', 's', '.', '▁4)', '.', '▁Ein', '▁Pla', 'gia', 't', '▁kann', '▁allerdings', '▁nicht', '▁nur', '▁von', '▁einem', '▁Werk', '▁ge', 'mä', 's', 's', '▁Urheberrecht', '▁s', '-', '▁', 'gesetz', '▁erstellt', '▁werden', ',', '▁sondern', '▁von', '▁sämtliche', 'n', '▁Arbeits', 'resultat', 'en', ',', '▁die', '▁u', '.', 'U', '.', '▁nicht', '▁in', '▁den', '▁Schutz', 'bereich', '▁des', '▁U', 'RG', '▁fallen', ',', '</s>']\n",
      "Chunk 8: ['<s>', '▁', 'gesetz', '▁erstellt', '▁werden', ',', '▁sondern', '▁von', '▁sämtliche', 'n', '▁Arbeits', 'resultat', 'en', ',', '▁die', '▁u', '.', 'U', '.', '▁nicht', '▁in', '▁den', '▁Schutz', 'bereich', '▁des', '▁U', 'RG', '▁fallen', ',', '▁weshalb', '▁hier', '▁unter', '▁einem', '▁Werk', '▁allgemein', '▁jedes', '▁Arbeits', 'resultat', '▁zu', '▁verstehen', '▁ist', '.', '▁2.2', '.', '5.1', '▁', '-01', 'MB', '▁Verme', 'i', 'dung', '▁von', '▁Pla', 'gia', 'ten', '▁Dok', '.', '-', '▁Ver', 'ant', 'w', '.', ':', '▁Mart', '▁Version', '▁2.0', '▁Seite', '▁2', '▁von', '▁2', '▁I', '.', 'd', '.', 'R', '.', '▁sollte', '▁bei', '▁schriftlich', 'e', '▁n', '▁Arbeit', '▁en', '▁von', '▁den', '▁Stud', 'ierenden', '▁eine', '▁Erklärung', '▁unter', 'zeichnet', '▁werden', '▁', ',', '▁dass', '▁die', '▁Arbeit', '▁se', 'lb', 'ständig', '▁ver', 'fas', 'st', '▁wurde', '.', '▁Umgang', '▁mit', '▁Quelle', 'n', '▁Für', '▁die', '▁Z', 'iti', 'erweise', '▁und', '▁den', '▁Umgang', '▁mit', '▁Quelle', 'n', '▁sind', '▁die', '▁in', '▁den', '▁Studien', 'gäng', 'en', '</s>']\n",
      "Chunk 9: ['<s>', '▁Rich', '▁t', '-', '▁lini', 'en', '▁verbind', 'lich', '.', '▁Grundsätzlich', '▁gilt', '▁aber', ':', '▁-', '▁Jeder', '▁frem', 'de', '▁Text', ',', '▁Text', 'teil', '▁oder', '▁frem', 'des', '▁Gedanken', 'gut', ',', '▁das', '▁in', '▁die', '▁eigene', '▁Arbeit', '▁ü', '▁ber', 'no', '▁m', '-', '▁men', '▁wird', ',', '▁muss', '▁mit', '▁einer', '▁Quelle', 'nan', 'gabe', '▁ver', 'sehen', '▁werden', ',', '▁damit', '▁der', '▁Leser', '▁diese', '▁nach', 'pr', '▁ü', '-', '▁fen', '▁kann', '▁und', '▁sieht', ',', '▁welcher', '▁Teil', '▁von', '▁we', 'm', '▁stammt', '.', '▁Dies', '▁gilt', '▁auch', '▁für', '▁Übersetzung', 'en', ',', '▁Par', '▁a', '-', '▁phr', 'as', 'ierung', 'en', ',', '▁bei', '▁der', '▁Über', 'nahme', '▁eines', '▁frem', 'den', '▁Aufbau', 's', '▁oder', '▁der', '▁Verwendung', '▁von', '▁Sy', '-', '▁no', 'nym', 'en', '.', '▁-', '▁W', 'ört', 'liche', '▁Z', 'itate', '▁sind', '▁in', '▁An', 'führung', 's', '▁-', '▁und', '▁Schluss', 'zeichen', '▁zu', '▁setzen', '.', '▁Welche', '▁Folgen', '▁können', '▁Pla', 'gia', '</s>']\n"
     ]
    }
   ],
   "source": [
    "model_name = \"paraphrase-multilingual-MiniLM-L12-v2\"\n",
    "model = SentenceTransformer(model_name)\n",
    "tokenized_chunks = []\n",
    "for i, text in enumerate(token_split_texts[:10]):\n",
    "    # Tokenize each chunk\n",
    "    encoded_input = model.tokenizer(text, padding=True, truncation=True, max_length=128, return_tensors='pt')\n",
    "    # Convert token IDs back to tokens\n",
    "    tokens = model.tokenizer.convert_ids_to_tokens(encoded_input['input_ids'][0].tolist())\n",
    "    tokenized_chunks.append(tokens)\n",
    "    print(f\"Chunk {i}: {tokens}\")"
   ]
  },
  {
   "cell_type": "code",
   "execution_count": 14,
   "metadata": {},
   "outputs": [
    {
     "name": "stdout",
     "output_type": "stream",
     "text": [
      "Chunk 0: ['[CLS]', '2', '.', '2', '.', '5', '.', '1', '-', '01', '##MB', 'Vermeidung', 'von', 'Pla', '##gia', '##ten', 'Dok', '.', '-', 'Veran', '##tw', '.', ':', 'mar', '##t', 'Version', '2', '.', '0', '.', 'Genehm', '##igt', '19', '.', '9', '.', '12', 'durch', ':', 'Generalsekretär', 'Seite', '1', 'von', '2', 'Rektor', '##at', 'Ressort', 'Lehre', 'Merk', '##blatt', 'zur', 'Vermeidung', 'von', 'Pla', '##gia', '##ten', 'Pla', '##gia', '##te', 'verst', '##ossen', 'gegen', 'grundlegende', 'Regeln', 'wissenschaft', '##lichen', 'Arbeiten', '##s', '.', 'Entsprechend', 's', 'e', '-', 'hen', 'das', 'Gesetz', 'und', 'die', 'Rahmen', '##prüfung', '##sor', '##dn', '##ung', 'für', 'Bachelor', '-', 'und', 'Masters', '##tu', '##di', 'eng', '##änge', 'der', 'Z', '##H', '##AW', '(', 'R', '##PO', ')', 'in', 'Pla', '##gia', '##ts', '##fällen', 'zum', 'Teil', 'grav', '##ierende', 'Sanktionen', 'für', 'Studierende', 'vor', '.', 'Dieses', 'Mer', 'k', '-', 'bl', '##att', 'soll', '[SEP]']\n",
      "Chunk 1: ['[CLS]', 'einerseits', 'helfen', ',', 'Pla', '##gia', '##te', 'und', 'deren', 'Folgen', 'zu', 'vermeiden', ',', 'andererseits', 'die', 'Wis', '##se', 'n', '-', 'schaft', '##lichkeit', 'stud', '##ent', '##ischer', 'Arb', '##e', 'it', '##en', 'gewährleisten', '.', 'Was', 'gilt', 'als', 'Pla', '##gia', '##t', '?', 'Von', 'einem', 'Pla', '##gia', '##t', 'spricht', 'man', ',', 'wenn', 'ein', 'fremde', '##s', 'Werk', '##1', 'ganz', 'oder', 'teilweise', 'ohne', 'Quellen', '##angabe', 'übernommen', 'und', 'als', 'eigenes', 'Werk', 'ausgegeben', 'wird', '.', 'Dem', '##zufolge', 'fallen', 'beispielsweise', 'folgende', 'Handlungen', 'einer', 'Verfasser', '##in', '/', 'eines', 'Verfasser', '##s', 'unter', 'den', 'Pla', '##gia', '##ts', '##begriff', ':', '-', 'Ein', 'fremde', '##s', 'Werk', 'wird', 'unter', 'dem', 'eigenen', 'Namen', 'eingereicht', '(', 'Voll', '##pla', '##gia', '##t', ')', ';', '-', 'ein', 'Werk', ',', 'das', 'von', 'einer', 'andern', 'Person', 'ganz', '[SEP]']\n",
      "Chunk 2: ['[CLS]', 'oder', 'teilweise', 'im', 'Auftrag', 'erstellt', 'wurde', ',', 'wird', 'unter', 'dem', 'eigenen', 'Namen', 'eingereicht', '(', 'sog', '.', 'Gh', '##ost', '##writ', '##ing', ')', ';', '-', 'fremd', '##sprachige', 'Texte', 'oder', 'Teile', 'davon', 'werden', 'von', 'der', 'Verfasser', '##in', '/', 'vom', 'Verfasser', 'üb', '##e', 'r', '-', 'setzt', 'und', 'ohne', 'Quellen', '##angabe', 'als', 'eigene', 'Texte', 'ausgegeben', '(', 'Übersetzung', '##spl', '##agi', '##at', ')', ';', '-', 'Teile', 'aus', 'einem', 'fremden', 'Werk', 'werden', 'unverändert', 'übern', '##o', 'mm', '##en', ',', 'ohne', 'die', 'Quelle', 'mit', 'e', 'i', '-', 'ne', '##m', 'Zitat', 'zu', 'kenn', '##zeichnen', '.', 'Dies', 'betrifft', 'auch', 'die', 'Verwendung', 'von', 'Teilen', 'eines', 'Werkes', 'aus', 'dem', 'Internet', ',', 'aber', 'auch', 'z', '.', 'B', '.', 'Labor', '##berichte', 'etc', '.', ';', '-', 'Teile', '[SEP]']\n",
      "Chunk 3: ['[CLS]', 'aus', 'einem', 'fremden', 'Werk', 'werden', 'übernommen', ',', 'te', '##xt', '##lich', 'leicht', 'angepasst', 'oder', 'um', '##g', 'e', '-', 'stellt', '(', 'Par', '##aph', '##ras', '##ierung', ')', ',', 'aber', 'nicht', 'mit', 'einer', 'Quellen', '##angabe', 'versehen', ';', '-', 'Teile', 'aus', 'einem', 'fremden', 'Werk', 'werden', 'übernommen', ',', 'ev', '##tl', '.', 'abge', '##ändert', 'oder', 'par', '##aph', '##ras', '##iert', '.', 'Auf', 'die', 'entsprechende', 'Quelle', 'wird', 'zwar', 'verwiesen', ',', 'sie', 'wird', 'aber', 'nicht', 'im', 'Kontext', 'der', '[SEP]']\n",
      "Chunk 4: ['[CLS]', '-', 'Teile', 'aus', 'einem', 'fremden', 'Werk', 'werden', 'übernommen', ',', 'ev', '##tl', '.', 'abge', '##ändert', 'oder', 'par', '##aph', '##ras', '##iert', '.', 'Auf', 'die', 'entsprechende', 'Quelle', 'wird', 'zwar', 'verwiesen', ',', 'sie', 'wird', 'aber', 'nicht', 'im', 'Kontext', 'der', 'übernommen', '##en', 'Teile', 'des', 'Werkes', 'angegeben', '(', 'Beispiel', ':', 'Verst', '##eck', '##en', 'der', 'pla', '##gi', '##ierten', 'Quelle', 'in', 'einer', 'Fuss', '##note', 'am', 'Ende', 'der', 'Arbeit', ')', '.', 'Ebenfalls', 'unzuläss', '##ig', 'und', 'im', 'weiteren', 'Sinne', 'zu', 'den', 'Pla', '##gia', '##ten', 'gehören', 'Fälle', ',', 'in', 'denen', 'dieselbe', 'A', 'r', '-', 'beit', 'oder', 'Teile', 'davon', 'von', 'der', 'Verfasser', '##in', '/', 'vom', 'Verfasser', 'zu', 'verschiedenen', 'Prüfungs', '-', 'oder', 'Prom', 'o', '-', 'ti', '##ons', '##an', '##läss', '##en', 'einger', '##eich', '[SEP]']\n",
      "Chunk 5: ['[CLS]', 't', 'werden', '(', 'Selbst', '##pla', '##gia', '##t', ')', '.', 'Grundlagen', '##wissen', ',', 'das', 'in', 'einem', 'bestimmten', 'Fach', '##gebiet', 'als', 'allgemeine', '##s', 'Wissen', 'vorausgesetzt', 'werden', 'darf', ',', 'muss', 'zwar', 'grundsätzlich', 'nicht', 'zitiert', 'werden', '.', 'Wird', 'allerdings', 'eine', 'spezielle', 'Dar', '##ste', 'l', '-', 'l', '##ung', 'dieses', 'Wissens', 'aus', 'einer', 'Quelle', ',', 'z', '.', 'B', '.', 'aus', 'einem', 'Lehr', '##buch', ',', 'übernommen', ',', 'muss', 'auf', 'die', 'Que', 'l', '-', 'le', 'hin', 'gew', '##iesen', 'werden', '.', '1', 'Unter', 'einem', 'Werk', 'im', 'Sinne', 'des', 'Urheber', '##rechts', '##gesetzes', '(', 'Art', '.', '2', ')', 'werden', 'geistige', 'Schöpfung', '##en', 'mit', 'individuelle', '##m', 'Ch', 'a', '-', 'ra', '##kter', 'verstanden', '.', 'Dazu', 'gehören', 'insbesondere', 'liter', '##arische', ',', 'wissenschaft', '##liche', 'und', 'andere', 'Sprach', '##werke', ',', 'Werke', 'der', '[SEP]']\n",
      "Chunk 6: ['[CLS]', 'M', 'u', '-', 'si', '##k', 'und', 'andere', 'akust', '##ische', 'Werke', ',', 'Werke', 'der', 'bilden', '##den', 'Kunst', ',', 'insbesondere', 'der', 'Malerei', ',', 'der', 'Bildhauer', '##ei', 'und', 'der', 'Grafik', ',', 'Werke', 'mit', 'wissenschaft', '##lichem', 'oder', 'technische', '##m', 'Inhalt', 'wie', 'Zeichnungen', ',', 'Pläne', ',', 'Karten', 'oder', 'pla', '##stisch', '##e', 'Darstellungen', ',', 'Werke', 'der', 'Bau', '##kunst', ',', 'Werke', 'der', 'angewandt', '##en', 'Kunst', ',', 'fotograf', '##ische', ',', 'film', '##ische', 'oder', 'andere', 'vis', '##uelle', 'oder', 'audiovis', '##uelle', 'Werke', ',', 'ch', '##ore', '##ographische', 'Werke', 'und', 'Pant', '##omi', '##me', 'sowie', 'Computer', '##programme', '(', 'Art', '.', '2', 'Abs', '.', '2', 'u', 'nd', '3', 'U', '##R', '##G', ')', '.', 'Ebenfalls', 'vom', 'Urheber', '##rechts', '##gesetz', 'geschützt', 'sind', 'Entwürfe', '[SEP]']\n",
      "Chunk 7: ['[CLS]', ',', 'Titel', 'und', 'Teile', 'von', 'Werken', ',', 'sofern', 'es', 'sich', 'um', 'geistige', 'Schöpfung', '##en', 'mit', 'individuelle', '##m', 'Charakter', 'handelt', '(', 'Abs', '.', '4', ')', '.', 'Ein', 'Pla', '##gia', '##t', 'kann', 'allerdings', 'nicht', 'nur', 'von', 'einem', 'Werk', 'gem', '##äss', 'Urheber', '##recht', 's', '-', 'gesetz', 'erstellt', 'werden', ',', 'sondern', 'von', 'sämtlichen', 'Arbeits', '##res', '##ult', '##aten', ',', 'die', 'u', '.', 'U', '.', 'nicht', 'in', 'den', 'Schutz', '##bereich', 'des', 'U', '##R', '##G', 'fallen', ',', '[SEP]']\n",
      "Chunk 8: ['[CLS]', 'gesetz', 'erstellt', 'werden', ',', 'sondern', 'von', 'sämtlichen', 'Arbeits', '##res', '##ult', '##aten', ',', 'die', 'u', '.', 'U', '.', 'nicht', 'in', 'den', 'Schutz', '##bereich', 'des', 'U', '##R', '##G', 'fallen', ',', 'weshalb', 'hier', 'unter', 'einem', 'Werk', 'allgemein', 'jedes', 'Arbeits', '##res', '##ult', '##at', 'zu', 'verstehen', 'ist', '.', '2', '.', '2', '.', '5', '.', '1', '-', '01', '##MB', 'Vermeidung', 'von', 'Pla', '##gia', '##ten', 'Dok', '.', '-', 'Veran', '##tw', '.', ':', 'Mart', 'Version', '2', '.', '0', 'Seite', '2', 'von', '2', 'I', '.', 'd', '.', 'R', '.', 'sollte', 'bei', 'schriftliche', 'n', 'Arbeit', 'en', 'von', 'den', 'Studierenden', 'eine', 'Erklärung', 'unterzeichnet', 'werden', ',', 'dass', 'die', 'Arbeit', 'selbständig', 'verfasst', 'wurde', '.', 'Umgang', 'mit', 'Quellen', 'Für', 'die', 'Zit', '##ier', '##weise', 'und', 'den', 'Umgang', 'mit', 'Quellen', 'sind', 'die', 'in', 'den', 'Studien', '##gängen', 'vermittelt', '##en', '[SEP]']\n",
      "Chunk 9: ['[CLS]', 'Rich', 't', '-', 'lin', '##ien', 'verbindlich', '.', 'Grundsätzlich', 'gilt', 'aber', ':', '-', 'Jeder', 'fremde', 'Text', ',', 'Text', '##teil', 'oder', 'fremde', '##s', 'Gedanken', '##gut', ',', 'das', 'in', 'die', 'eigene', 'Arbeit', 'ü', 'ber', '##no', 'm', '-', 'men', 'wird', ',', 'muss', 'mit', 'einer', 'Quellen', '##angabe', 'versehen', 'werden', ',', 'damit', 'der', 'Leser', 'diese', 'nach', '##pr', 'ü', '-', 'fe', '##n', 'kann', 'und', 'sieht', ',', 'welcher', 'Teil', 'von', 'wem', 'stammt', '.', 'Dies', 'gilt', 'auch', 'für', 'Übersetzungen', ',', 'Par', 'a', '-', 'ph', '##ras', '##ierungen', ',', 'bei', 'der', 'Übernahme', 'eines', 'fremden', 'Aufbau', '##s', 'oder', 'der', 'Verwendung', 'von', 'Sy', '-', 'non', '##ym', '##en', '.', '-', 'Wör', '##tliche', 'Zitat', '##e', 'sind', 'in', 'Anf', '##ührung', '##s', '-', 'und', 'Schluss', '##zeichen', 'zu', 'setzen', '.', 'Welche', 'Folgen', 'können', 'Pla', '##gia', '##te', 'für', '[SEP]']\n"
     ]
    }
   ],
   "source": [
    "model_name = \"Sahajtomar/German-semantic\"\n",
    "model = SentenceTransformer(model_name)\n",
    "tokenized_chunks = []\n",
    "for i, text in enumerate(token_split_texts[:10]):\n",
    "    # Tokenize each chunk\n",
    "    encoded_input = model.tokenizer(text, padding=True, truncation=True, max_length=128, return_tensors='pt')\n",
    "    # Convert token IDs back to tokens\n",
    "    tokens = model.tokenizer.convert_ids_to_tokens(encoded_input['input_ids'][0].tolist())\n",
    "    tokenized_chunks.append(tokens)\n",
    "    print(f\"Chunk {i}: {tokens}\")"
   ]
  },
  {
   "cell_type": "markdown",
   "metadata": {},
   "source": [
    "## 4. Generating Embeddings for Each Chunk\n",
    "\n",
    "Now we convert each text chunk into a numerical embedding that captures its semantic meaning. These embeddings will be used for similarity search."
   ]
  },
  {
   "cell_type": "code",
   "execution_count": 15,
   "metadata": {},
   "outputs": [
    {
     "name": "stderr",
     "output_type": "stream",
     "text": [
      "C:\\Users\\yanic\\AppData\\Local\\Temp\\ipykernel_17260\\4090508586.py:1: LangChainDeprecationWarning: The class `HuggingFaceEmbeddings` was deprecated in LangChain 0.2.2 and will be removed in 1.0. An updated version of the class exists in the :class:`~langchain-huggingface package and should be used instead. To use it run `pip install -U :class:`~langchain-huggingface` and import as `from :class:`~langchain_huggingface import HuggingFaceEmbeddings``.\n",
      "  embeddings = HuggingFaceEmbeddings(model_name=\"paraphrase-multilingual-MiniLM-L12-v2\")\n"
     ]
    }
   ],
   "source": [
    "embeddings = HuggingFaceEmbeddings(model_name=\"paraphrase-multilingual-MiniLM-L12-v2\")\n",
    "chunk_embeddings = model.encode(token_split_texts, convert_to_numpy=True)"
   ]
  },
  {
   "cell_type": "markdown",
   "metadata": {},
   "source": [
    "## 5. Building a FAISS Vector Store\n",
    "\n",
    "FAISS is a powerful library for efficient similarity search. Here, we build an index from our embeddings. Remember, FAISS only stores the numerical vectors so we must keep our original text mapping separately."
   ]
  },
  {
   "cell_type": "code",
   "execution_count": 16,
   "metadata": {},
   "outputs": [
    {
     "name": "stdout",
     "output_type": "stream",
     "text": [
      "1024\n"
     ]
    }
   ],
   "source": [
    "d = chunk_embeddings.shape[1]\n",
    "print(d)"
   ]
  },
  {
   "cell_type": "code",
   "execution_count": 17,
   "metadata": {},
   "outputs": [
    {
     "name": "stdout",
     "output_type": "stream",
     "text": [
      "Number of embeddings in FAISS index: 252\n"
     ]
    }
   ],
   "source": [
    "index = faiss.IndexFlatL2(d)\n",
    "index.add(chunk_embeddings)\n",
    "print(\"Number of embeddings in FAISS index:\", index.ntotal)"
   ]
  },
  {
   "cell_type": "code",
   "execution_count": 18,
   "metadata": {},
   "outputs": [],
   "source": [
    "if not os.path.exists('faiss'):\n",
    "    os.makedirs('faiss')\n",
    "    \n",
    "faiss.write_index(index, \"faiss/faiss_index.index\")\n",
    "with open(\"faiss/chunks_mapping.pkl\", \"wb\") as f:\n",
    "    pickle.dump(chunks, f)"
   ]
  },
  {
   "cell_type": "code",
   "execution_count": 19,
   "metadata": {},
   "outputs": [
    {
     "name": "stdout",
     "output_type": "stream",
     "text": [
      "61\n",
      "252\n"
     ]
    }
   ],
   "source": [
    "index_2 = faiss.read_index(\"faiss/faiss_index.index\")\n",
    "with open(\"faiss/chunks_mapping.pkl\", \"rb\") as f:\n",
    "    token_split_texts_2 = pickle.load(f)\n",
    "print(len(token_split_texts_2))\n",
    "print(len(token_split_texts))"
   ]
  },
  {
   "cell_type": "markdown",
   "metadata": {},
   "source": [
    "## 6. Projecting Embeddings with UMAP\n",
    "\n",
    "To visualize high-dimensional embeddings, we use UMAP to project them into 2D space. You can project both the entire dataset and individual query embeddings."
   ]
  },
  {
   "cell_type": "code",
   "execution_count": 20,
   "metadata": {},
   "outputs": [
    {
     "name": "stderr",
     "output_type": "stream",
     "text": [
      "c:\\Users\\yanic\\RAG-and-embeddings-KIA\\.venv\\Lib\\site-packages\\sklearn\\utils\\deprecation.py:151: FutureWarning: 'force_all_finite' was renamed to 'ensure_all_finite' in 1.6 and will be removed in 1.8.\n",
      "  warnings.warn(\n",
      "c:\\Users\\yanic\\RAG-and-embeddings-KIA\\.venv\\Lib\\site-packages\\umap\\umap_.py:1952: UserWarning: n_jobs value 1 overridden to 1 by setting random_state. Use no seed for parallelism.\n",
      "  warn(\n",
      "c:\\Users\\yanic\\RAG-and-embeddings-KIA\\.venv\\Lib\\site-packages\\numba\\np\\ufunc\\parallel.py:371: NumbaWarning: \u001b[1mThe TBB threading layer requires TBB version 2021 update 6 or later i.e., TBB_INTERFACE_VERSION >= 12060. Found TBB_INTERFACE_VERSION = 12020. The TBB threading layer is disabled.\u001b[0m\n",
      "  warnings.warn(problem)\n"
     ]
    }
   ],
   "source": [
    "# Fit UMAP on the full dataset embeddings\n",
    "umap_transform = umap.UMAP(random_state=0, transform_seed=0).fit(chunk_embeddings)\n",
    "\n",
    "def project_embeddings(embeddings, umap_transform):\n",
    "    \"\"\"\n",
    "    Project a set of embeddings using a pre-fitted UMAP transform.\n",
    "    \"\"\"\n",
    "    umap_embeddings = np.empty((len(embeddings), 2))\n",
    "    for i, embedding in enumerate(tqdm.tqdm(embeddings, desc=\"Projecting Embeddings\")):\n",
    "        umap_embeddings[i] = umap_transform.transform([embedding])\n",
    "    return umap_embeddings\n"
   ]
  },
  {
   "cell_type": "code",
   "execution_count": 21,
   "metadata": {},
   "outputs": [
    {
     "name": "stderr",
     "output_type": "stream",
     "text": [
      "Projecting Embeddings:   0%|          | 0/252 [00:00<?, ?it/s]c:\\Users\\yanic\\RAG-and-embeddings-KIA\\.venv\\Lib\\site-packages\\sklearn\\utils\\deprecation.py:151: FutureWarning: 'force_all_finite' was renamed to 'ensure_all_finite' in 1.6 and will be removed in 1.8.\n",
      "  warnings.warn(\n",
      "Projecting Embeddings:   0%|          | 1/252 [00:03<14:12,  3.40s/it]c:\\Users\\yanic\\RAG-and-embeddings-KIA\\.venv\\Lib\\site-packages\\sklearn\\utils\\deprecation.py:151: FutureWarning: 'force_all_finite' was renamed to 'ensure_all_finite' in 1.6 and will be removed in 1.8.\n",
      "  warnings.warn(\n",
      "c:\\Users\\yanic\\RAG-and-embeddings-KIA\\.venv\\Lib\\site-packages\\sklearn\\utils\\deprecation.py:151: FutureWarning: 'force_all_finite' was renamed to 'ensure_all_finite' in 1.6 and will be removed in 1.8.\n",
      "  warnings.warn(\n",
      "c:\\Users\\yanic\\RAG-and-embeddings-KIA\\.venv\\Lib\\site-packages\\sklearn\\utils\\deprecation.py:151: FutureWarning: 'force_all_finite' was renamed to 'ensure_all_finite' in 1.6 and will be removed in 1.8.\n",
      "  warnings.warn(\n",
      "c:\\Users\\yanic\\RAG-and-embeddings-KIA\\.venv\\Lib\\site-packages\\sklearn\\utils\\deprecation.py:151: FutureWarning: 'force_all_finite' was renamed to 'ensure_all_finite' in 1.6 and will be removed in 1.8.\n",
      "  warnings.warn(\n",
      "c:\\Users\\yanic\\RAG-and-embeddings-KIA\\.venv\\Lib\\site-packages\\sklearn\\utils\\deprecation.py:151: FutureWarning: 'force_all_finite' was renamed to 'ensure_all_finite' in 1.6 and will be removed in 1.8.\n",
      "  warnings.warn(\n",
      "c:\\Users\\yanic\\RAG-and-embeddings-KIA\\.venv\\Lib\\site-packages\\sklearn\\utils\\deprecation.py:151: FutureWarning: 'force_all_finite' was renamed to 'ensure_all_finite' in 1.6 and will be removed in 1.8.\n",
      "  warnings.warn(\n",
      "c:\\Users\\yanic\\RAG-and-embeddings-KIA\\.venv\\Lib\\site-packages\\sklearn\\utils\\deprecation.py:151: FutureWarning: 'force_all_finite' was renamed to 'ensure_all_finite' in 1.6 and will be removed in 1.8.\n",
      "  warnings.warn(\n",
      "c:\\Users\\yanic\\RAG-and-embeddings-KIA\\.venv\\Lib\\site-packages\\sklearn\\utils\\deprecation.py:151: FutureWarning: 'force_all_finite' was renamed to 'ensure_all_finite' in 1.6 and will be removed in 1.8.\n",
      "  warnings.warn(\n",
      "c:\\Users\\yanic\\RAG-and-embeddings-KIA\\.venv\\Lib\\site-packages\\sklearn\\utils\\deprecation.py:151: FutureWarning: 'force_all_finite' was renamed to 'ensure_all_finite' in 1.6 and will be removed in 1.8.\n",
      "  warnings.warn(\n",
      "c:\\Users\\yanic\\RAG-and-embeddings-KIA\\.venv\\Lib\\site-packages\\sklearn\\utils\\deprecation.py:151: FutureWarning: 'force_all_finite' was renamed to 'ensure_all_finite' in 1.6 and will be removed in 1.8.\n",
      "  warnings.warn(\n",
      "c:\\Users\\yanic\\RAG-and-embeddings-KIA\\.venv\\Lib\\site-packages\\sklearn\\utils\\deprecation.py:151: FutureWarning: 'force_all_finite' was renamed to 'ensure_all_finite' in 1.6 and will be removed in 1.8.\n",
      "  warnings.warn(\n",
      "c:\\Users\\yanic\\RAG-and-embeddings-KIA\\.venv\\Lib\\site-packages\\sklearn\\utils\\deprecation.py:151: FutureWarning: 'force_all_finite' was renamed to 'ensure_all_finite' in 1.6 and will be removed in 1.8.\n",
      "  warnings.warn(\n",
      "c:\\Users\\yanic\\RAG-and-embeddings-KIA\\.venv\\Lib\\site-packages\\sklearn\\utils\\deprecation.py:151: FutureWarning: 'force_all_finite' was renamed to 'ensure_all_finite' in 1.6 and will be removed in 1.8.\n",
      "  warnings.warn(\n",
      "c:\\Users\\yanic\\RAG-and-embeddings-KIA\\.venv\\Lib\\site-packages\\sklearn\\utils\\deprecation.py:151: FutureWarning: 'force_all_finite' was renamed to 'ensure_all_finite' in 1.6 and will be removed in 1.8.\n",
      "  warnings.warn(\n",
      "c:\\Users\\yanic\\RAG-and-embeddings-KIA\\.venv\\Lib\\site-packages\\sklearn\\utils\\deprecation.py:151: FutureWarning: 'force_all_finite' was renamed to 'ensure_all_finite' in 1.6 and will be removed in 1.8.\n",
      "  warnings.warn(\n",
      "c:\\Users\\yanic\\RAG-and-embeddings-KIA\\.venv\\Lib\\site-packages\\sklearn\\utils\\deprecation.py:151: FutureWarning: 'force_all_finite' was renamed to 'ensure_all_finite' in 1.6 and will be removed in 1.8.\n",
      "  warnings.warn(\n",
      "c:\\Users\\yanic\\RAG-and-embeddings-KIA\\.venv\\Lib\\site-packages\\sklearn\\utils\\deprecation.py:151: FutureWarning: 'force_all_finite' was renamed to 'ensure_all_finite' in 1.6 and will be removed in 1.8.\n",
      "  warnings.warn(\n",
      "c:\\Users\\yanic\\RAG-and-embeddings-KIA\\.venv\\Lib\\site-packages\\sklearn\\utils\\deprecation.py:151: FutureWarning: 'force_all_finite' was renamed to 'ensure_all_finite' in 1.6 and will be removed in 1.8.\n",
      "  warnings.warn(\n",
      "c:\\Users\\yanic\\RAG-and-embeddings-KIA\\.venv\\Lib\\site-packages\\sklearn\\utils\\deprecation.py:151: FutureWarning: 'force_all_finite' was renamed to 'ensure_all_finite' in 1.6 and will be removed in 1.8.\n",
      "  warnings.warn(\n",
      "c:\\Users\\yanic\\RAG-and-embeddings-KIA\\.venv\\Lib\\site-packages\\sklearn\\utils\\deprecation.py:151: FutureWarning: 'force_all_finite' was renamed to 'ensure_all_finite' in 1.6 and will be removed in 1.8.\n",
      "  warnings.warn(\n",
      "c:\\Users\\yanic\\RAG-and-embeddings-KIA\\.venv\\Lib\\site-packages\\sklearn\\utils\\deprecation.py:151: FutureWarning: 'force_all_finite' was renamed to 'ensure_all_finite' in 1.6 and will be removed in 1.8.\n",
      "  warnings.warn(\n",
      "c:\\Users\\yanic\\RAG-and-embeddings-KIA\\.venv\\Lib\\site-packages\\sklearn\\utils\\deprecation.py:151: FutureWarning: 'force_all_finite' was renamed to 'ensure_all_finite' in 1.6 and will be removed in 1.8.\n",
      "  warnings.warn(\n",
      "c:\\Users\\yanic\\RAG-and-embeddings-KIA\\.venv\\Lib\\site-packages\\sklearn\\utils\\deprecation.py:151: FutureWarning: 'force_all_finite' was renamed to 'ensure_all_finite' in 1.6 and will be removed in 1.8.\n",
      "  warnings.warn(\n",
      "c:\\Users\\yanic\\RAG-and-embeddings-KIA\\.venv\\Lib\\site-packages\\sklearn\\utils\\deprecation.py:151: FutureWarning: 'force_all_finite' was renamed to 'ensure_all_finite' in 1.6 and will be removed in 1.8.\n",
      "  warnings.warn(\n",
      "c:\\Users\\yanic\\RAG-and-embeddings-KIA\\.venv\\Lib\\site-packages\\sklearn\\utils\\deprecation.py:151: FutureWarning: 'force_all_finite' was renamed to 'ensure_all_finite' in 1.6 and will be removed in 1.8.\n",
      "  warnings.warn(\n",
      "c:\\Users\\yanic\\RAG-and-embeddings-KIA\\.venv\\Lib\\site-packages\\sklearn\\utils\\deprecation.py:151: FutureWarning: 'force_all_finite' was renamed to 'ensure_all_finite' in 1.6 and will be removed in 1.8.\n",
      "  warnings.warn(\n",
      "c:\\Users\\yanic\\RAG-and-embeddings-KIA\\.venv\\Lib\\site-packages\\sklearn\\utils\\deprecation.py:151: FutureWarning: 'force_all_finite' was renamed to 'ensure_all_finite' in 1.6 and will be removed in 1.8.\n",
      "  warnings.warn(\n",
      "c:\\Users\\yanic\\RAG-and-embeddings-KIA\\.venv\\Lib\\site-packages\\sklearn\\utils\\deprecation.py:151: FutureWarning: 'force_all_finite' was renamed to 'ensure_all_finite' in 1.6 and will be removed in 1.8.\n",
      "  warnings.warn(\n",
      "c:\\Users\\yanic\\RAG-and-embeddings-KIA\\.venv\\Lib\\site-packages\\sklearn\\utils\\deprecation.py:151: FutureWarning: 'force_all_finite' was renamed to 'ensure_all_finite' in 1.6 and will be removed in 1.8.\n",
      "  warnings.warn(\n",
      "Projecting Embeddings:  12%|█▏        | 30/252 [00:03<00:18, 11.97it/s]c:\\Users\\yanic\\RAG-and-embeddings-KIA\\.venv\\Lib\\site-packages\\sklearn\\utils\\deprecation.py:151: FutureWarning: 'force_all_finite' was renamed to 'ensure_all_finite' in 1.6 and will be removed in 1.8.\n",
      "  warnings.warn(\n",
      "c:\\Users\\yanic\\RAG-and-embeddings-KIA\\.venv\\Lib\\site-packages\\sklearn\\utils\\deprecation.py:151: FutureWarning: 'force_all_finite' was renamed to 'ensure_all_finite' in 1.6 and will be removed in 1.8.\n",
      "  warnings.warn(\n",
      "c:\\Users\\yanic\\RAG-and-embeddings-KIA\\.venv\\Lib\\site-packages\\sklearn\\utils\\deprecation.py:151: FutureWarning: 'force_all_finite' was renamed to 'ensure_all_finite' in 1.6 and will be removed in 1.8.\n",
      "  warnings.warn(\n",
      "c:\\Users\\yanic\\RAG-and-embeddings-KIA\\.venv\\Lib\\site-packages\\sklearn\\utils\\deprecation.py:151: FutureWarning: 'force_all_finite' was renamed to 'ensure_all_finite' in 1.6 and will be removed in 1.8.\n",
      "  warnings.warn(\n",
      "c:\\Users\\yanic\\RAG-and-embeddings-KIA\\.venv\\Lib\\site-packages\\sklearn\\utils\\deprecation.py:151: FutureWarning: 'force_all_finite' was renamed to 'ensure_all_finite' in 1.6 and will be removed in 1.8.\n",
      "  warnings.warn(\n",
      "c:\\Users\\yanic\\RAG-and-embeddings-KIA\\.venv\\Lib\\site-packages\\sklearn\\utils\\deprecation.py:151: FutureWarning: 'force_all_finite' was renamed to 'ensure_all_finite' in 1.6 and will be removed in 1.8.\n",
      "  warnings.warn(\n",
      "c:\\Users\\yanic\\RAG-and-embeddings-KIA\\.venv\\Lib\\site-packages\\sklearn\\utils\\deprecation.py:151: FutureWarning: 'force_all_finite' was renamed to 'ensure_all_finite' in 1.6 and will be removed in 1.8.\n",
      "  warnings.warn(\n",
      "c:\\Users\\yanic\\RAG-and-embeddings-KIA\\.venv\\Lib\\site-packages\\sklearn\\utils\\deprecation.py:151: FutureWarning: 'force_all_finite' was renamed to 'ensure_all_finite' in 1.6 and will be removed in 1.8.\n",
      "  warnings.warn(\n",
      "c:\\Users\\yanic\\RAG-and-embeddings-KIA\\.venv\\Lib\\site-packages\\sklearn\\utils\\deprecation.py:151: FutureWarning: 'force_all_finite' was renamed to 'ensure_all_finite' in 1.6 and will be removed in 1.8.\n",
      "  warnings.warn(\n",
      "c:\\Users\\yanic\\RAG-and-embeddings-KIA\\.venv\\Lib\\site-packages\\sklearn\\utils\\deprecation.py:151: FutureWarning: 'force_all_finite' was renamed to 'ensure_all_finite' in 1.6 and will be removed in 1.8.\n",
      "  warnings.warn(\n",
      "c:\\Users\\yanic\\RAG-and-embeddings-KIA\\.venv\\Lib\\site-packages\\sklearn\\utils\\deprecation.py:151: FutureWarning: 'force_all_finite' was renamed to 'ensure_all_finite' in 1.6 and will be removed in 1.8.\n",
      "  warnings.warn(\n",
      "c:\\Users\\yanic\\RAG-and-embeddings-KIA\\.venv\\Lib\\site-packages\\sklearn\\utils\\deprecation.py:151: FutureWarning: 'force_all_finite' was renamed to 'ensure_all_finite' in 1.6 and will be removed in 1.8.\n",
      "  warnings.warn(\n",
      "c:\\Users\\yanic\\RAG-and-embeddings-KIA\\.venv\\Lib\\site-packages\\sklearn\\utils\\deprecation.py:151: FutureWarning: 'force_all_finite' was renamed to 'ensure_all_finite' in 1.6 and will be removed in 1.8.\n",
      "  warnings.warn(\n",
      "c:\\Users\\yanic\\RAG-and-embeddings-KIA\\.venv\\Lib\\site-packages\\sklearn\\utils\\deprecation.py:151: FutureWarning: 'force_all_finite' was renamed to 'ensure_all_finite' in 1.6 and will be removed in 1.8.\n",
      "  warnings.warn(\n",
      "c:\\Users\\yanic\\RAG-and-embeddings-KIA\\.venv\\Lib\\site-packages\\sklearn\\utils\\deprecation.py:151: FutureWarning: 'force_all_finite' was renamed to 'ensure_all_finite' in 1.6 and will be removed in 1.8.\n",
      "  warnings.warn(\n",
      "c:\\Users\\yanic\\RAG-and-embeddings-KIA\\.venv\\Lib\\site-packages\\sklearn\\utils\\deprecation.py:151: FutureWarning: 'force_all_finite' was renamed to 'ensure_all_finite' in 1.6 and will be removed in 1.8.\n",
      "  warnings.warn(\n",
      "c:\\Users\\yanic\\RAG-and-embeddings-KIA\\.venv\\Lib\\site-packages\\sklearn\\utils\\deprecation.py:151: FutureWarning: 'force_all_finite' was renamed to 'ensure_all_finite' in 1.6 and will be removed in 1.8.\n",
      "  warnings.warn(\n",
      "c:\\Users\\yanic\\RAG-and-embeddings-KIA\\.venv\\Lib\\site-packages\\sklearn\\utils\\deprecation.py:151: FutureWarning: 'force_all_finite' was renamed to 'ensure_all_finite' in 1.6 and will be removed in 1.8.\n",
      "  warnings.warn(\n",
      "c:\\Users\\yanic\\RAG-and-embeddings-KIA\\.venv\\Lib\\site-packages\\sklearn\\utils\\deprecation.py:151: FutureWarning: 'force_all_finite' was renamed to 'ensure_all_finite' in 1.6 and will be removed in 1.8.\n",
      "  warnings.warn(\n",
      "c:\\Users\\yanic\\RAG-and-embeddings-KIA\\.venv\\Lib\\site-packages\\sklearn\\utils\\deprecation.py:151: FutureWarning: 'force_all_finite' was renamed to 'ensure_all_finite' in 1.6 and will be removed in 1.8.\n",
      "  warnings.warn(\n",
      "c:\\Users\\yanic\\RAG-and-embeddings-KIA\\.venv\\Lib\\site-packages\\sklearn\\utils\\deprecation.py:151: FutureWarning: 'force_all_finite' was renamed to 'ensure_all_finite' in 1.6 and will be removed in 1.8.\n",
      "  warnings.warn(\n",
      "c:\\Users\\yanic\\RAG-and-embeddings-KIA\\.venv\\Lib\\site-packages\\sklearn\\utils\\deprecation.py:151: FutureWarning: 'force_all_finite' was renamed to 'ensure_all_finite' in 1.6 and will be removed in 1.8.\n",
      "  warnings.warn(\n",
      "c:\\Users\\yanic\\RAG-and-embeddings-KIA\\.venv\\Lib\\site-packages\\sklearn\\utils\\deprecation.py:151: FutureWarning: 'force_all_finite' was renamed to 'ensure_all_finite' in 1.6 and will be removed in 1.8.\n",
      "  warnings.warn(\n",
      "c:\\Users\\yanic\\RAG-and-embeddings-KIA\\.venv\\Lib\\site-packages\\sklearn\\utils\\deprecation.py:151: FutureWarning: 'force_all_finite' was renamed to 'ensure_all_finite' in 1.6 and will be removed in 1.8.\n",
      "  warnings.warn(\n",
      "c:\\Users\\yanic\\RAG-and-embeddings-KIA\\.venv\\Lib\\site-packages\\sklearn\\utils\\deprecation.py:151: FutureWarning: 'force_all_finite' was renamed to 'ensure_all_finite' in 1.6 and will be removed in 1.8.\n",
      "  warnings.warn(\n",
      "c:\\Users\\yanic\\RAG-and-embeddings-KIA\\.venv\\Lib\\site-packages\\sklearn\\utils\\deprecation.py:151: FutureWarning: 'force_all_finite' was renamed to 'ensure_all_finite' in 1.6 and will be removed in 1.8.\n",
      "  warnings.warn(\n",
      "c:\\Users\\yanic\\RAG-and-embeddings-KIA\\.venv\\Lib\\site-packages\\sklearn\\utils\\deprecation.py:151: FutureWarning: 'force_all_finite' was renamed to 'ensure_all_finite' in 1.6 and will be removed in 1.8.\n",
      "  warnings.warn(\n",
      "Projecting Embeddings:  23%|██▎       | 57/252 [00:03<00:07, 26.02it/s]c:\\Users\\yanic\\RAG-and-embeddings-KIA\\.venv\\Lib\\site-packages\\sklearn\\utils\\deprecation.py:151: FutureWarning: 'force_all_finite' was renamed to 'ensure_all_finite' in 1.6 and will be removed in 1.8.\n",
      "  warnings.warn(\n",
      "c:\\Users\\yanic\\RAG-and-embeddings-KIA\\.venv\\Lib\\site-packages\\sklearn\\utils\\deprecation.py:151: FutureWarning: 'force_all_finite' was renamed to 'ensure_all_finite' in 1.6 and will be removed in 1.8.\n",
      "  warnings.warn(\n",
      "c:\\Users\\yanic\\RAG-and-embeddings-KIA\\.venv\\Lib\\site-packages\\sklearn\\utils\\deprecation.py:151: FutureWarning: 'force_all_finite' was renamed to 'ensure_all_finite' in 1.6 and will be removed in 1.8.\n",
      "  warnings.warn(\n",
      "c:\\Users\\yanic\\RAG-and-embeddings-KIA\\.venv\\Lib\\site-packages\\sklearn\\utils\\deprecation.py:151: FutureWarning: 'force_all_finite' was renamed to 'ensure_all_finite' in 1.6 and will be removed in 1.8.\n",
      "  warnings.warn(\n",
      "c:\\Users\\yanic\\RAG-and-embeddings-KIA\\.venv\\Lib\\site-packages\\sklearn\\utils\\deprecation.py:151: FutureWarning: 'force_all_finite' was renamed to 'ensure_all_finite' in 1.6 and will be removed in 1.8.\n",
      "  warnings.warn(\n",
      "c:\\Users\\yanic\\RAG-and-embeddings-KIA\\.venv\\Lib\\site-packages\\sklearn\\utils\\deprecation.py:151: FutureWarning: 'force_all_finite' was renamed to 'ensure_all_finite' in 1.6 and will be removed in 1.8.\n",
      "  warnings.warn(\n",
      "c:\\Users\\yanic\\RAG-and-embeddings-KIA\\.venv\\Lib\\site-packages\\sklearn\\utils\\deprecation.py:151: FutureWarning: 'force_all_finite' was renamed to 'ensure_all_finite' in 1.6 and will be removed in 1.8.\n",
      "  warnings.warn(\n",
      "c:\\Users\\yanic\\RAG-and-embeddings-KIA\\.venv\\Lib\\site-packages\\sklearn\\utils\\deprecation.py:151: FutureWarning: 'force_all_finite' was renamed to 'ensure_all_finite' in 1.6 and will be removed in 1.8.\n",
      "  warnings.warn(\n",
      "c:\\Users\\yanic\\RAG-and-embeddings-KIA\\.venv\\Lib\\site-packages\\sklearn\\utils\\deprecation.py:151: FutureWarning: 'force_all_finite' was renamed to 'ensure_all_finite' in 1.6 and will be removed in 1.8.\n",
      "  warnings.warn(\n",
      "c:\\Users\\yanic\\RAG-and-embeddings-KIA\\.venv\\Lib\\site-packages\\sklearn\\utils\\deprecation.py:151: FutureWarning: 'force_all_finite' was renamed to 'ensure_all_finite' in 1.6 and will be removed in 1.8.\n",
      "  warnings.warn(\n",
      "c:\\Users\\yanic\\RAG-and-embeddings-KIA\\.venv\\Lib\\site-packages\\sklearn\\utils\\deprecation.py:151: FutureWarning: 'force_all_finite' was renamed to 'ensure_all_finite' in 1.6 and will be removed in 1.8.\n",
      "  warnings.warn(\n",
      "c:\\Users\\yanic\\RAG-and-embeddings-KIA\\.venv\\Lib\\site-packages\\sklearn\\utils\\deprecation.py:151: FutureWarning: 'force_all_finite' was renamed to 'ensure_all_finite' in 1.6 and will be removed in 1.8.\n",
      "  warnings.warn(\n",
      "c:\\Users\\yanic\\RAG-and-embeddings-KIA\\.venv\\Lib\\site-packages\\sklearn\\utils\\deprecation.py:151: FutureWarning: 'force_all_finite' was renamed to 'ensure_all_finite' in 1.6 and will be removed in 1.8.\n",
      "  warnings.warn(\n",
      "c:\\Users\\yanic\\RAG-and-embeddings-KIA\\.venv\\Lib\\site-packages\\sklearn\\utils\\deprecation.py:151: FutureWarning: 'force_all_finite' was renamed to 'ensure_all_finite' in 1.6 and will be removed in 1.8.\n",
      "  warnings.warn(\n",
      "c:\\Users\\yanic\\RAG-and-embeddings-KIA\\.venv\\Lib\\site-packages\\sklearn\\utils\\deprecation.py:151: FutureWarning: 'force_all_finite' was renamed to 'ensure_all_finite' in 1.6 and will be removed in 1.8.\n",
      "  warnings.warn(\n",
      "c:\\Users\\yanic\\RAG-and-embeddings-KIA\\.venv\\Lib\\site-packages\\sklearn\\utils\\deprecation.py:151: FutureWarning: 'force_all_finite' was renamed to 'ensure_all_finite' in 1.6 and will be removed in 1.8.\n",
      "  warnings.warn(\n",
      "c:\\Users\\yanic\\RAG-and-embeddings-KIA\\.venv\\Lib\\site-packages\\sklearn\\utils\\deprecation.py:151: FutureWarning: 'force_all_finite' was renamed to 'ensure_all_finite' in 1.6 and will be removed in 1.8.\n",
      "  warnings.warn(\n",
      "c:\\Users\\yanic\\RAG-and-embeddings-KIA\\.venv\\Lib\\site-packages\\sklearn\\utils\\deprecation.py:151: FutureWarning: 'force_all_finite' was renamed to 'ensure_all_finite' in 1.6 and will be removed in 1.8.\n",
      "  warnings.warn(\n",
      "c:\\Users\\yanic\\RAG-and-embeddings-KIA\\.venv\\Lib\\site-packages\\sklearn\\utils\\deprecation.py:151: FutureWarning: 'force_all_finite' was renamed to 'ensure_all_finite' in 1.6 and will be removed in 1.8.\n",
      "  warnings.warn(\n",
      "c:\\Users\\yanic\\RAG-and-embeddings-KIA\\.venv\\Lib\\site-packages\\sklearn\\utils\\deprecation.py:151: FutureWarning: 'force_all_finite' was renamed to 'ensure_all_finite' in 1.6 and will be removed in 1.8.\n",
      "  warnings.warn(\n",
      "c:\\Users\\yanic\\RAG-and-embeddings-KIA\\.venv\\Lib\\site-packages\\sklearn\\utils\\deprecation.py:151: FutureWarning: 'force_all_finite' was renamed to 'ensure_all_finite' in 1.6 and will be removed in 1.8.\n",
      "  warnings.warn(\n",
      "c:\\Users\\yanic\\RAG-and-embeddings-KIA\\.venv\\Lib\\site-packages\\sklearn\\utils\\deprecation.py:151: FutureWarning: 'force_all_finite' was renamed to 'ensure_all_finite' in 1.6 and will be removed in 1.8.\n",
      "  warnings.warn(\n",
      "Projecting Embeddings:  31%|███▏      | 79/252 [00:03<00:04, 39.61it/s]c:\\Users\\yanic\\RAG-and-embeddings-KIA\\.venv\\Lib\\site-packages\\sklearn\\utils\\deprecation.py:151: FutureWarning: 'force_all_finite' was renamed to 'ensure_all_finite' in 1.6 and will be removed in 1.8.\n",
      "  warnings.warn(\n",
      "c:\\Users\\yanic\\RAG-and-embeddings-KIA\\.venv\\Lib\\site-packages\\sklearn\\utils\\deprecation.py:151: FutureWarning: 'force_all_finite' was renamed to 'ensure_all_finite' in 1.6 and will be removed in 1.8.\n",
      "  warnings.warn(\n",
      "c:\\Users\\yanic\\RAG-and-embeddings-KIA\\.venv\\Lib\\site-packages\\sklearn\\utils\\deprecation.py:151: FutureWarning: 'force_all_finite' was renamed to 'ensure_all_finite' in 1.6 and will be removed in 1.8.\n",
      "  warnings.warn(\n",
      "c:\\Users\\yanic\\RAG-and-embeddings-KIA\\.venv\\Lib\\site-packages\\sklearn\\utils\\deprecation.py:151: FutureWarning: 'force_all_finite' was renamed to 'ensure_all_finite' in 1.6 and will be removed in 1.8.\n",
      "  warnings.warn(\n",
      "c:\\Users\\yanic\\RAG-and-embeddings-KIA\\.venv\\Lib\\site-packages\\sklearn\\utils\\deprecation.py:151: FutureWarning: 'force_all_finite' was renamed to 'ensure_all_finite' in 1.6 and will be removed in 1.8.\n",
      "  warnings.warn(\n",
      "c:\\Users\\yanic\\RAG-and-embeddings-KIA\\.venv\\Lib\\site-packages\\sklearn\\utils\\deprecation.py:151: FutureWarning: 'force_all_finite' was renamed to 'ensure_all_finite' in 1.6 and will be removed in 1.8.\n",
      "  warnings.warn(\n",
      "c:\\Users\\yanic\\RAG-and-embeddings-KIA\\.venv\\Lib\\site-packages\\sklearn\\utils\\deprecation.py:151: FutureWarning: 'force_all_finite' was renamed to 'ensure_all_finite' in 1.6 and will be removed in 1.8.\n",
      "  warnings.warn(\n",
      "c:\\Users\\yanic\\RAG-and-embeddings-KIA\\.venv\\Lib\\site-packages\\sklearn\\utils\\deprecation.py:151: FutureWarning: 'force_all_finite' was renamed to 'ensure_all_finite' in 1.6 and will be removed in 1.8.\n",
      "  warnings.warn(\n",
      "c:\\Users\\yanic\\RAG-and-embeddings-KIA\\.venv\\Lib\\site-packages\\sklearn\\utils\\deprecation.py:151: FutureWarning: 'force_all_finite' was renamed to 'ensure_all_finite' in 1.6 and will be removed in 1.8.\n",
      "  warnings.warn(\n",
      "c:\\Users\\yanic\\RAG-and-embeddings-KIA\\.venv\\Lib\\site-packages\\sklearn\\utils\\deprecation.py:151: FutureWarning: 'force_all_finite' was renamed to 'ensure_all_finite' in 1.6 and will be removed in 1.8.\n",
      "  warnings.warn(\n",
      "c:\\Users\\yanic\\RAG-and-embeddings-KIA\\.venv\\Lib\\site-packages\\sklearn\\utils\\deprecation.py:151: FutureWarning: 'force_all_finite' was renamed to 'ensure_all_finite' in 1.6 and will be removed in 1.8.\n",
      "  warnings.warn(\n",
      "c:\\Users\\yanic\\RAG-and-embeddings-KIA\\.venv\\Lib\\site-packages\\sklearn\\utils\\deprecation.py:151: FutureWarning: 'force_all_finite' was renamed to 'ensure_all_finite' in 1.6 and will be removed in 1.8.\n",
      "  warnings.warn(\n",
      "c:\\Users\\yanic\\RAG-and-embeddings-KIA\\.venv\\Lib\\site-packages\\sklearn\\utils\\deprecation.py:151: FutureWarning: 'force_all_finite' was renamed to 'ensure_all_finite' in 1.6 and will be removed in 1.8.\n",
      "  warnings.warn(\n",
      "c:\\Users\\yanic\\RAG-and-embeddings-KIA\\.venv\\Lib\\site-packages\\sklearn\\utils\\deprecation.py:151: FutureWarning: 'force_all_finite' was renamed to 'ensure_all_finite' in 1.6 and will be removed in 1.8.\n",
      "  warnings.warn(\n",
      "c:\\Users\\yanic\\RAG-and-embeddings-KIA\\.venv\\Lib\\site-packages\\sklearn\\utils\\deprecation.py:151: FutureWarning: 'force_all_finite' was renamed to 'ensure_all_finite' in 1.6 and will be removed in 1.8.\n",
      "  warnings.warn(\n",
      "c:\\Users\\yanic\\RAG-and-embeddings-KIA\\.venv\\Lib\\site-packages\\sklearn\\utils\\deprecation.py:151: FutureWarning: 'force_all_finite' was renamed to 'ensure_all_finite' in 1.6 and will be removed in 1.8.\n",
      "  warnings.warn(\n",
      "c:\\Users\\yanic\\RAG-and-embeddings-KIA\\.venv\\Lib\\site-packages\\sklearn\\utils\\deprecation.py:151: FutureWarning: 'force_all_finite' was renamed to 'ensure_all_finite' in 1.6 and will be removed in 1.8.\n",
      "  warnings.warn(\n",
      "c:\\Users\\yanic\\RAG-and-embeddings-KIA\\.venv\\Lib\\site-packages\\sklearn\\utils\\deprecation.py:151: FutureWarning: 'force_all_finite' was renamed to 'ensure_all_finite' in 1.6 and will be removed in 1.8.\n",
      "  warnings.warn(\n",
      "c:\\Users\\yanic\\RAG-and-embeddings-KIA\\.venv\\Lib\\site-packages\\sklearn\\utils\\deprecation.py:151: FutureWarning: 'force_all_finite' was renamed to 'ensure_all_finite' in 1.6 and will be removed in 1.8.\n",
      "  warnings.warn(\n",
      "c:\\Users\\yanic\\RAG-and-embeddings-KIA\\.venv\\Lib\\site-packages\\sklearn\\utils\\deprecation.py:151: FutureWarning: 'force_all_finite' was renamed to 'ensure_all_finite' in 1.6 and will be removed in 1.8.\n",
      "  warnings.warn(\n",
      "c:\\Users\\yanic\\RAG-and-embeddings-KIA\\.venv\\Lib\\site-packages\\sklearn\\utils\\deprecation.py:151: FutureWarning: 'force_all_finite' was renamed to 'ensure_all_finite' in 1.6 and will be removed in 1.8.\n",
      "  warnings.warn(\n",
      "Projecting Embeddings:  40%|███▉      | 100/252 [00:03<00:02, 55.20it/s]c:\\Users\\yanic\\RAG-and-embeddings-KIA\\.venv\\Lib\\site-packages\\sklearn\\utils\\deprecation.py:151: FutureWarning: 'force_all_finite' was renamed to 'ensure_all_finite' in 1.6 and will be removed in 1.8.\n",
      "  warnings.warn(\n",
      "c:\\Users\\yanic\\RAG-and-embeddings-KIA\\.venv\\Lib\\site-packages\\sklearn\\utils\\deprecation.py:151: FutureWarning: 'force_all_finite' was renamed to 'ensure_all_finite' in 1.6 and will be removed in 1.8.\n",
      "  warnings.warn(\n",
      "c:\\Users\\yanic\\RAG-and-embeddings-KIA\\.venv\\Lib\\site-packages\\sklearn\\utils\\deprecation.py:151: FutureWarning: 'force_all_finite' was renamed to 'ensure_all_finite' in 1.6 and will be removed in 1.8.\n",
      "  warnings.warn(\n",
      "c:\\Users\\yanic\\RAG-and-embeddings-KIA\\.venv\\Lib\\site-packages\\sklearn\\utils\\deprecation.py:151: FutureWarning: 'force_all_finite' was renamed to 'ensure_all_finite' in 1.6 and will be removed in 1.8.\n",
      "  warnings.warn(\n",
      "c:\\Users\\yanic\\RAG-and-embeddings-KIA\\.venv\\Lib\\site-packages\\sklearn\\utils\\deprecation.py:151: FutureWarning: 'force_all_finite' was renamed to 'ensure_all_finite' in 1.6 and will be removed in 1.8.\n",
      "  warnings.warn(\n",
      "c:\\Users\\yanic\\RAG-and-embeddings-KIA\\.venv\\Lib\\site-packages\\sklearn\\utils\\deprecation.py:151: FutureWarning: 'force_all_finite' was renamed to 'ensure_all_finite' in 1.6 and will be removed in 1.8.\n",
      "  warnings.warn(\n",
      "c:\\Users\\yanic\\RAG-and-embeddings-KIA\\.venv\\Lib\\site-packages\\sklearn\\utils\\deprecation.py:151: FutureWarning: 'force_all_finite' was renamed to 'ensure_all_finite' in 1.6 and will be removed in 1.8.\n",
      "  warnings.warn(\n",
      "c:\\Users\\yanic\\RAG-and-embeddings-KIA\\.venv\\Lib\\site-packages\\sklearn\\utils\\deprecation.py:151: FutureWarning: 'force_all_finite' was renamed to 'ensure_all_finite' in 1.6 and will be removed in 1.8.\n",
      "  warnings.warn(\n",
      "c:\\Users\\yanic\\RAG-and-embeddings-KIA\\.venv\\Lib\\site-packages\\sklearn\\utils\\deprecation.py:151: FutureWarning: 'force_all_finite' was renamed to 'ensure_all_finite' in 1.6 and will be removed in 1.8.\n",
      "  warnings.warn(\n",
      "c:\\Users\\yanic\\RAG-and-embeddings-KIA\\.venv\\Lib\\site-packages\\sklearn\\utils\\deprecation.py:151: FutureWarning: 'force_all_finite' was renamed to 'ensure_all_finite' in 1.6 and will be removed in 1.8.\n",
      "  warnings.warn(\n",
      "c:\\Users\\yanic\\RAG-and-embeddings-KIA\\.venv\\Lib\\site-packages\\sklearn\\utils\\deprecation.py:151: FutureWarning: 'force_all_finite' was renamed to 'ensure_all_finite' in 1.6 and will be removed in 1.8.\n",
      "  warnings.warn(\n",
      "c:\\Users\\yanic\\RAG-and-embeddings-KIA\\.venv\\Lib\\site-packages\\sklearn\\utils\\deprecation.py:151: FutureWarning: 'force_all_finite' was renamed to 'ensure_all_finite' in 1.6 and will be removed in 1.8.\n",
      "  warnings.warn(\n",
      "c:\\Users\\yanic\\RAG-and-embeddings-KIA\\.venv\\Lib\\site-packages\\sklearn\\utils\\deprecation.py:151: FutureWarning: 'force_all_finite' was renamed to 'ensure_all_finite' in 1.6 and will be removed in 1.8.\n",
      "  warnings.warn(\n",
      "c:\\Users\\yanic\\RAG-and-embeddings-KIA\\.venv\\Lib\\site-packages\\sklearn\\utils\\deprecation.py:151: FutureWarning: 'force_all_finite' was renamed to 'ensure_all_finite' in 1.6 and will be removed in 1.8.\n",
      "  warnings.warn(\n",
      "c:\\Users\\yanic\\RAG-and-embeddings-KIA\\.venv\\Lib\\site-packages\\sklearn\\utils\\deprecation.py:151: FutureWarning: 'force_all_finite' was renamed to 'ensure_all_finite' in 1.6 and will be removed in 1.8.\n",
      "  warnings.warn(\n",
      "c:\\Users\\yanic\\RAG-and-embeddings-KIA\\.venv\\Lib\\site-packages\\sklearn\\utils\\deprecation.py:151: FutureWarning: 'force_all_finite' was renamed to 'ensure_all_finite' in 1.6 and will be removed in 1.8.\n",
      "  warnings.warn(\n",
      "c:\\Users\\yanic\\RAG-and-embeddings-KIA\\.venv\\Lib\\site-packages\\sklearn\\utils\\deprecation.py:151: FutureWarning: 'force_all_finite' was renamed to 'ensure_all_finite' in 1.6 and will be removed in 1.8.\n",
      "  warnings.warn(\n",
      "c:\\Users\\yanic\\RAG-and-embeddings-KIA\\.venv\\Lib\\site-packages\\sklearn\\utils\\deprecation.py:151: FutureWarning: 'force_all_finite' was renamed to 'ensure_all_finite' in 1.6 and will be removed in 1.8.\n",
      "  warnings.warn(\n",
      "c:\\Users\\yanic\\RAG-and-embeddings-KIA\\.venv\\Lib\\site-packages\\sklearn\\utils\\deprecation.py:151: FutureWarning: 'force_all_finite' was renamed to 'ensure_all_finite' in 1.6 and will be removed in 1.8.\n",
      "  warnings.warn(\n",
      "c:\\Users\\yanic\\RAG-and-embeddings-KIA\\.venv\\Lib\\site-packages\\sklearn\\utils\\deprecation.py:151: FutureWarning: 'force_all_finite' was renamed to 'ensure_all_finite' in 1.6 and will be removed in 1.8.\n",
      "  warnings.warn(\n",
      "c:\\Users\\yanic\\RAG-and-embeddings-KIA\\.venv\\Lib\\site-packages\\sklearn\\utils\\deprecation.py:151: FutureWarning: 'force_all_finite' was renamed to 'ensure_all_finite' in 1.6 and will be removed in 1.8.\n",
      "  warnings.warn(\n",
      "Projecting Embeddings:  48%|████▊     | 121/252 [00:03<00:01, 72.48it/s]c:\\Users\\yanic\\RAG-and-embeddings-KIA\\.venv\\Lib\\site-packages\\sklearn\\utils\\deprecation.py:151: FutureWarning: 'force_all_finite' was renamed to 'ensure_all_finite' in 1.6 and will be removed in 1.8.\n",
      "  warnings.warn(\n",
      "c:\\Users\\yanic\\RAG-and-embeddings-KIA\\.venv\\Lib\\site-packages\\sklearn\\utils\\deprecation.py:151: FutureWarning: 'force_all_finite' was renamed to 'ensure_all_finite' in 1.6 and will be removed in 1.8.\n",
      "  warnings.warn(\n",
      "c:\\Users\\yanic\\RAG-and-embeddings-KIA\\.venv\\Lib\\site-packages\\sklearn\\utils\\deprecation.py:151: FutureWarning: 'force_all_finite' was renamed to 'ensure_all_finite' in 1.6 and will be removed in 1.8.\n",
      "  warnings.warn(\n",
      "c:\\Users\\yanic\\RAG-and-embeddings-KIA\\.venv\\Lib\\site-packages\\sklearn\\utils\\deprecation.py:151: FutureWarning: 'force_all_finite' was renamed to 'ensure_all_finite' in 1.6 and will be removed in 1.8.\n",
      "  warnings.warn(\n",
      "c:\\Users\\yanic\\RAG-and-embeddings-KIA\\.venv\\Lib\\site-packages\\sklearn\\utils\\deprecation.py:151: FutureWarning: 'force_all_finite' was renamed to 'ensure_all_finite' in 1.6 and will be removed in 1.8.\n",
      "  warnings.warn(\n",
      "c:\\Users\\yanic\\RAG-and-embeddings-KIA\\.venv\\Lib\\site-packages\\sklearn\\utils\\deprecation.py:151: FutureWarning: 'force_all_finite' was renamed to 'ensure_all_finite' in 1.6 and will be removed in 1.8.\n",
      "  warnings.warn(\n",
      "c:\\Users\\yanic\\RAG-and-embeddings-KIA\\.venv\\Lib\\site-packages\\sklearn\\utils\\deprecation.py:151: FutureWarning: 'force_all_finite' was renamed to 'ensure_all_finite' in 1.6 and will be removed in 1.8.\n",
      "  warnings.warn(\n",
      "c:\\Users\\yanic\\RAG-and-embeddings-KIA\\.venv\\Lib\\site-packages\\sklearn\\utils\\deprecation.py:151: FutureWarning: 'force_all_finite' was renamed to 'ensure_all_finite' in 1.6 and will be removed in 1.8.\n",
      "  warnings.warn(\n",
      "c:\\Users\\yanic\\RAG-and-embeddings-KIA\\.venv\\Lib\\site-packages\\sklearn\\utils\\deprecation.py:151: FutureWarning: 'force_all_finite' was renamed to 'ensure_all_finite' in 1.6 and will be removed in 1.8.\n",
      "  warnings.warn(\n",
      "c:\\Users\\yanic\\RAG-and-embeddings-KIA\\.venv\\Lib\\site-packages\\sklearn\\utils\\deprecation.py:151: FutureWarning: 'force_all_finite' was renamed to 'ensure_all_finite' in 1.6 and will be removed in 1.8.\n",
      "  warnings.warn(\n",
      "c:\\Users\\yanic\\RAG-and-embeddings-KIA\\.venv\\Lib\\site-packages\\sklearn\\utils\\deprecation.py:151: FutureWarning: 'force_all_finite' was renamed to 'ensure_all_finite' in 1.6 and will be removed in 1.8.\n",
      "  warnings.warn(\n",
      "c:\\Users\\yanic\\RAG-and-embeddings-KIA\\.venv\\Lib\\site-packages\\sklearn\\utils\\deprecation.py:151: FutureWarning: 'force_all_finite' was renamed to 'ensure_all_finite' in 1.6 and will be removed in 1.8.\n",
      "  warnings.warn(\n",
      "c:\\Users\\yanic\\RAG-and-embeddings-KIA\\.venv\\Lib\\site-packages\\sklearn\\utils\\deprecation.py:151: FutureWarning: 'force_all_finite' was renamed to 'ensure_all_finite' in 1.6 and will be removed in 1.8.\n",
      "  warnings.warn(\n",
      "c:\\Users\\yanic\\RAG-and-embeddings-KIA\\.venv\\Lib\\site-packages\\sklearn\\utils\\deprecation.py:151: FutureWarning: 'force_all_finite' was renamed to 'ensure_all_finite' in 1.6 and will be removed in 1.8.\n",
      "  warnings.warn(\n",
      "c:\\Users\\yanic\\RAG-and-embeddings-KIA\\.venv\\Lib\\site-packages\\sklearn\\utils\\deprecation.py:151: FutureWarning: 'force_all_finite' was renamed to 'ensure_all_finite' in 1.6 and will be removed in 1.8.\n",
      "  warnings.warn(\n",
      "c:\\Users\\yanic\\RAG-and-embeddings-KIA\\.venv\\Lib\\site-packages\\sklearn\\utils\\deprecation.py:151: FutureWarning: 'force_all_finite' was renamed to 'ensure_all_finite' in 1.6 and will be removed in 1.8.\n",
      "  warnings.warn(\n",
      "c:\\Users\\yanic\\RAG-and-embeddings-KIA\\.venv\\Lib\\site-packages\\sklearn\\utils\\deprecation.py:151: FutureWarning: 'force_all_finite' was renamed to 'ensure_all_finite' in 1.6 and will be removed in 1.8.\n",
      "  warnings.warn(\n",
      "c:\\Users\\yanic\\RAG-and-embeddings-KIA\\.venv\\Lib\\site-packages\\sklearn\\utils\\deprecation.py:151: FutureWarning: 'force_all_finite' was renamed to 'ensure_all_finite' in 1.6 and will be removed in 1.8.\n",
      "  warnings.warn(\n",
      "c:\\Users\\yanic\\RAG-and-embeddings-KIA\\.venv\\Lib\\site-packages\\sklearn\\utils\\deprecation.py:151: FutureWarning: 'force_all_finite' was renamed to 'ensure_all_finite' in 1.6 and will be removed in 1.8.\n",
      "  warnings.warn(\n",
      "c:\\Users\\yanic\\RAG-and-embeddings-KIA\\.venv\\Lib\\site-packages\\sklearn\\utils\\deprecation.py:151: FutureWarning: 'force_all_finite' was renamed to 'ensure_all_finite' in 1.6 and will be removed in 1.8.\n",
      "  warnings.warn(\n",
      "c:\\Users\\yanic\\RAG-and-embeddings-KIA\\.venv\\Lib\\site-packages\\sklearn\\utils\\deprecation.py:151: FutureWarning: 'force_all_finite' was renamed to 'ensure_all_finite' in 1.6 and will be removed in 1.8.\n",
      "  warnings.warn(\n",
      "c:\\Users\\yanic\\RAG-and-embeddings-KIA\\.venv\\Lib\\site-packages\\sklearn\\utils\\deprecation.py:151: FutureWarning: 'force_all_finite' was renamed to 'ensure_all_finite' in 1.6 and will be removed in 1.8.\n",
      "  warnings.warn(\n",
      "c:\\Users\\yanic\\RAG-and-embeddings-KIA\\.venv\\Lib\\site-packages\\sklearn\\utils\\deprecation.py:151: FutureWarning: 'force_all_finite' was renamed to 'ensure_all_finite' in 1.6 and will be removed in 1.8.\n",
      "  warnings.warn(\n",
      "Projecting Embeddings:  57%|█████▋    | 144/252 [00:04<00:01, 94.60it/s]c:\\Users\\yanic\\RAG-and-embeddings-KIA\\.venv\\Lib\\site-packages\\sklearn\\utils\\deprecation.py:151: FutureWarning: 'force_all_finite' was renamed to 'ensure_all_finite' in 1.6 and will be removed in 1.8.\n",
      "  warnings.warn(\n",
      "c:\\Users\\yanic\\RAG-and-embeddings-KIA\\.venv\\Lib\\site-packages\\sklearn\\utils\\deprecation.py:151: FutureWarning: 'force_all_finite' was renamed to 'ensure_all_finite' in 1.6 and will be removed in 1.8.\n",
      "  warnings.warn(\n",
      "c:\\Users\\yanic\\RAG-and-embeddings-KIA\\.venv\\Lib\\site-packages\\sklearn\\utils\\deprecation.py:151: FutureWarning: 'force_all_finite' was renamed to 'ensure_all_finite' in 1.6 and will be removed in 1.8.\n",
      "  warnings.warn(\n",
      "c:\\Users\\yanic\\RAG-and-embeddings-KIA\\.venv\\Lib\\site-packages\\sklearn\\utils\\deprecation.py:151: FutureWarning: 'force_all_finite' was renamed to 'ensure_all_finite' in 1.6 and will be removed in 1.8.\n",
      "  warnings.warn(\n",
      "c:\\Users\\yanic\\RAG-and-embeddings-KIA\\.venv\\Lib\\site-packages\\sklearn\\utils\\deprecation.py:151: FutureWarning: 'force_all_finite' was renamed to 'ensure_all_finite' in 1.6 and will be removed in 1.8.\n",
      "  warnings.warn(\n",
      "c:\\Users\\yanic\\RAG-and-embeddings-KIA\\.venv\\Lib\\site-packages\\sklearn\\utils\\deprecation.py:151: FutureWarning: 'force_all_finite' was renamed to 'ensure_all_finite' in 1.6 and will be removed in 1.8.\n",
      "  warnings.warn(\n",
      "c:\\Users\\yanic\\RAG-and-embeddings-KIA\\.venv\\Lib\\site-packages\\sklearn\\utils\\deprecation.py:151: FutureWarning: 'force_all_finite' was renamed to 'ensure_all_finite' in 1.6 and will be removed in 1.8.\n",
      "  warnings.warn(\n",
      "c:\\Users\\yanic\\RAG-and-embeddings-KIA\\.venv\\Lib\\site-packages\\sklearn\\utils\\deprecation.py:151: FutureWarning: 'force_all_finite' was renamed to 'ensure_all_finite' in 1.6 and will be removed in 1.8.\n",
      "  warnings.warn(\n",
      "c:\\Users\\yanic\\RAG-and-embeddings-KIA\\.venv\\Lib\\site-packages\\sklearn\\utils\\deprecation.py:151: FutureWarning: 'force_all_finite' was renamed to 'ensure_all_finite' in 1.6 and will be removed in 1.8.\n",
      "  warnings.warn(\n",
      "c:\\Users\\yanic\\RAG-and-embeddings-KIA\\.venv\\Lib\\site-packages\\sklearn\\utils\\deprecation.py:151: FutureWarning: 'force_all_finite' was renamed to 'ensure_all_finite' in 1.6 and will be removed in 1.8.\n",
      "  warnings.warn(\n",
      "c:\\Users\\yanic\\RAG-and-embeddings-KIA\\.venv\\Lib\\site-packages\\sklearn\\utils\\deprecation.py:151: FutureWarning: 'force_all_finite' was renamed to 'ensure_all_finite' in 1.6 and will be removed in 1.8.\n",
      "  warnings.warn(\n",
      "c:\\Users\\yanic\\RAG-and-embeddings-KIA\\.venv\\Lib\\site-packages\\sklearn\\utils\\deprecation.py:151: FutureWarning: 'force_all_finite' was renamed to 'ensure_all_finite' in 1.6 and will be removed in 1.8.\n",
      "  warnings.warn(\n",
      "c:\\Users\\yanic\\RAG-and-embeddings-KIA\\.venv\\Lib\\site-packages\\sklearn\\utils\\deprecation.py:151: FutureWarning: 'force_all_finite' was renamed to 'ensure_all_finite' in 1.6 and will be removed in 1.8.\n",
      "  warnings.warn(\n",
      "c:\\Users\\yanic\\RAG-and-embeddings-KIA\\.venv\\Lib\\site-packages\\sklearn\\utils\\deprecation.py:151: FutureWarning: 'force_all_finite' was renamed to 'ensure_all_finite' in 1.6 and will be removed in 1.8.\n",
      "  warnings.warn(\n",
      "c:\\Users\\yanic\\RAG-and-embeddings-KIA\\.venv\\Lib\\site-packages\\sklearn\\utils\\deprecation.py:151: FutureWarning: 'force_all_finite' was renamed to 'ensure_all_finite' in 1.6 and will be removed in 1.8.\n",
      "  warnings.warn(\n",
      "c:\\Users\\yanic\\RAG-and-embeddings-KIA\\.venv\\Lib\\site-packages\\sklearn\\utils\\deprecation.py:151: FutureWarning: 'force_all_finite' was renamed to 'ensure_all_finite' in 1.6 and will be removed in 1.8.\n",
      "  warnings.warn(\n",
      "c:\\Users\\yanic\\RAG-and-embeddings-KIA\\.venv\\Lib\\site-packages\\sklearn\\utils\\deprecation.py:151: FutureWarning: 'force_all_finite' was renamed to 'ensure_all_finite' in 1.6 and will be removed in 1.8.\n",
      "  warnings.warn(\n",
      "c:\\Users\\yanic\\RAG-and-embeddings-KIA\\.venv\\Lib\\site-packages\\sklearn\\utils\\deprecation.py:151: FutureWarning: 'force_all_finite' was renamed to 'ensure_all_finite' in 1.6 and will be removed in 1.8.\n",
      "  warnings.warn(\n",
      "c:\\Users\\yanic\\RAG-and-embeddings-KIA\\.venv\\Lib\\site-packages\\sklearn\\utils\\deprecation.py:151: FutureWarning: 'force_all_finite' was renamed to 'ensure_all_finite' in 1.6 and will be removed in 1.8.\n",
      "  warnings.warn(\n",
      "c:\\Users\\yanic\\RAG-and-embeddings-KIA\\.venv\\Lib\\site-packages\\sklearn\\utils\\deprecation.py:151: FutureWarning: 'force_all_finite' was renamed to 'ensure_all_finite' in 1.6 and will be removed in 1.8.\n",
      "  warnings.warn(\n",
      "c:\\Users\\yanic\\RAG-and-embeddings-KIA\\.venv\\Lib\\site-packages\\sklearn\\utils\\deprecation.py:151: FutureWarning: 'force_all_finite' was renamed to 'ensure_all_finite' in 1.6 and will be removed in 1.8.\n",
      "  warnings.warn(\n",
      "Projecting Embeddings:  65%|██████▌   | 165/252 [00:04<00:00, 112.83it/s]c:\\Users\\yanic\\RAG-and-embeddings-KIA\\.venv\\Lib\\site-packages\\sklearn\\utils\\deprecation.py:151: FutureWarning: 'force_all_finite' was renamed to 'ensure_all_finite' in 1.6 and will be removed in 1.8.\n",
      "  warnings.warn(\n",
      "c:\\Users\\yanic\\RAG-and-embeddings-KIA\\.venv\\Lib\\site-packages\\sklearn\\utils\\deprecation.py:151: FutureWarning: 'force_all_finite' was renamed to 'ensure_all_finite' in 1.6 and will be removed in 1.8.\n",
      "  warnings.warn(\n",
      "c:\\Users\\yanic\\RAG-and-embeddings-KIA\\.venv\\Lib\\site-packages\\sklearn\\utils\\deprecation.py:151: FutureWarning: 'force_all_finite' was renamed to 'ensure_all_finite' in 1.6 and will be removed in 1.8.\n",
      "  warnings.warn(\n",
      "c:\\Users\\yanic\\RAG-and-embeddings-KIA\\.venv\\Lib\\site-packages\\sklearn\\utils\\deprecation.py:151: FutureWarning: 'force_all_finite' was renamed to 'ensure_all_finite' in 1.6 and will be removed in 1.8.\n",
      "  warnings.warn(\n",
      "c:\\Users\\yanic\\RAG-and-embeddings-KIA\\.venv\\Lib\\site-packages\\sklearn\\utils\\deprecation.py:151: FutureWarning: 'force_all_finite' was renamed to 'ensure_all_finite' in 1.6 and will be removed in 1.8.\n",
      "  warnings.warn(\n",
      "c:\\Users\\yanic\\RAG-and-embeddings-KIA\\.venv\\Lib\\site-packages\\sklearn\\utils\\deprecation.py:151: FutureWarning: 'force_all_finite' was renamed to 'ensure_all_finite' in 1.6 and will be removed in 1.8.\n",
      "  warnings.warn(\n",
      "c:\\Users\\yanic\\RAG-and-embeddings-KIA\\.venv\\Lib\\site-packages\\sklearn\\utils\\deprecation.py:151: FutureWarning: 'force_all_finite' was renamed to 'ensure_all_finite' in 1.6 and will be removed in 1.8.\n",
      "  warnings.warn(\n",
      "c:\\Users\\yanic\\RAG-and-embeddings-KIA\\.venv\\Lib\\site-packages\\sklearn\\utils\\deprecation.py:151: FutureWarning: 'force_all_finite' was renamed to 'ensure_all_finite' in 1.6 and will be removed in 1.8.\n",
      "  warnings.warn(\n",
      "c:\\Users\\yanic\\RAG-and-embeddings-KIA\\.venv\\Lib\\site-packages\\sklearn\\utils\\deprecation.py:151: FutureWarning: 'force_all_finite' was renamed to 'ensure_all_finite' in 1.6 and will be removed in 1.8.\n",
      "  warnings.warn(\n",
      "c:\\Users\\yanic\\RAG-and-embeddings-KIA\\.venv\\Lib\\site-packages\\sklearn\\utils\\deprecation.py:151: FutureWarning: 'force_all_finite' was renamed to 'ensure_all_finite' in 1.6 and will be removed in 1.8.\n",
      "  warnings.warn(\n",
      "c:\\Users\\yanic\\RAG-and-embeddings-KIA\\.venv\\Lib\\site-packages\\sklearn\\utils\\deprecation.py:151: FutureWarning: 'force_all_finite' was renamed to 'ensure_all_finite' in 1.6 and will be removed in 1.8.\n",
      "  warnings.warn(\n",
      "c:\\Users\\yanic\\RAG-and-embeddings-KIA\\.venv\\Lib\\site-packages\\sklearn\\utils\\deprecation.py:151: FutureWarning: 'force_all_finite' was renamed to 'ensure_all_finite' in 1.6 and will be removed in 1.8.\n",
      "  warnings.warn(\n",
      "c:\\Users\\yanic\\RAG-and-embeddings-KIA\\.venv\\Lib\\site-packages\\sklearn\\utils\\deprecation.py:151: FutureWarning: 'force_all_finite' was renamed to 'ensure_all_finite' in 1.6 and will be removed in 1.8.\n",
      "  warnings.warn(\n",
      "c:\\Users\\yanic\\RAG-and-embeddings-KIA\\.venv\\Lib\\site-packages\\sklearn\\utils\\deprecation.py:151: FutureWarning: 'force_all_finite' was renamed to 'ensure_all_finite' in 1.6 and will be removed in 1.8.\n",
      "  warnings.warn(\n",
      "c:\\Users\\yanic\\RAG-and-embeddings-KIA\\.venv\\Lib\\site-packages\\sklearn\\utils\\deprecation.py:151: FutureWarning: 'force_all_finite' was renamed to 'ensure_all_finite' in 1.6 and will be removed in 1.8.\n",
      "  warnings.warn(\n",
      "c:\\Users\\yanic\\RAG-and-embeddings-KIA\\.venv\\Lib\\site-packages\\sklearn\\utils\\deprecation.py:151: FutureWarning: 'force_all_finite' was renamed to 'ensure_all_finite' in 1.6 and will be removed in 1.8.\n",
      "  warnings.warn(\n",
      "c:\\Users\\yanic\\RAG-and-embeddings-KIA\\.venv\\Lib\\site-packages\\sklearn\\utils\\deprecation.py:151: FutureWarning: 'force_all_finite' was renamed to 'ensure_all_finite' in 1.6 and will be removed in 1.8.\n",
      "  warnings.warn(\n",
      "c:\\Users\\yanic\\RAG-and-embeddings-KIA\\.venv\\Lib\\site-packages\\sklearn\\utils\\deprecation.py:151: FutureWarning: 'force_all_finite' was renamed to 'ensure_all_finite' in 1.6 and will be removed in 1.8.\n",
      "  warnings.warn(\n",
      "c:\\Users\\yanic\\RAG-and-embeddings-KIA\\.venv\\Lib\\site-packages\\sklearn\\utils\\deprecation.py:151: FutureWarning: 'force_all_finite' was renamed to 'ensure_all_finite' in 1.6 and will be removed in 1.8.\n",
      "  warnings.warn(\n",
      "c:\\Users\\yanic\\RAG-and-embeddings-KIA\\.venv\\Lib\\site-packages\\sklearn\\utils\\deprecation.py:151: FutureWarning: 'force_all_finite' was renamed to 'ensure_all_finite' in 1.6 and will be removed in 1.8.\n",
      "  warnings.warn(\n",
      "c:\\Users\\yanic\\RAG-and-embeddings-KIA\\.venv\\Lib\\site-packages\\sklearn\\utils\\deprecation.py:151: FutureWarning: 'force_all_finite' was renamed to 'ensure_all_finite' in 1.6 and will be removed in 1.8.\n",
      "  warnings.warn(\n",
      "c:\\Users\\yanic\\RAG-and-embeddings-KIA\\.venv\\Lib\\site-packages\\sklearn\\utils\\deprecation.py:151: FutureWarning: 'force_all_finite' was renamed to 'ensure_all_finite' in 1.6 and will be removed in 1.8.\n",
      "  warnings.warn(\n",
      "c:\\Users\\yanic\\RAG-and-embeddings-KIA\\.venv\\Lib\\site-packages\\sklearn\\utils\\deprecation.py:151: FutureWarning: 'force_all_finite' was renamed to 'ensure_all_finite' in 1.6 and will be removed in 1.8.\n",
      "  warnings.warn(\n",
      "c:\\Users\\yanic\\RAG-and-embeddings-KIA\\.venv\\Lib\\site-packages\\sklearn\\utils\\deprecation.py:151: FutureWarning: 'force_all_finite' was renamed to 'ensure_all_finite' in 1.6 and will be removed in 1.8.\n",
      "  warnings.warn(\n",
      "c:\\Users\\yanic\\RAG-and-embeddings-KIA\\.venv\\Lib\\site-packages\\sklearn\\utils\\deprecation.py:151: FutureWarning: 'force_all_finite' was renamed to 'ensure_all_finite' in 1.6 and will be removed in 1.8.\n",
      "  warnings.warn(\n",
      "Projecting Embeddings:  75%|███████▌  | 190/252 [00:04<00:00, 138.21it/s]c:\\Users\\yanic\\RAG-and-embeddings-KIA\\.venv\\Lib\\site-packages\\sklearn\\utils\\deprecation.py:151: FutureWarning: 'force_all_finite' was renamed to 'ensure_all_finite' in 1.6 and will be removed in 1.8.\n",
      "  warnings.warn(\n",
      "c:\\Users\\yanic\\RAG-and-embeddings-KIA\\.venv\\Lib\\site-packages\\sklearn\\utils\\deprecation.py:151: FutureWarning: 'force_all_finite' was renamed to 'ensure_all_finite' in 1.6 and will be removed in 1.8.\n",
      "  warnings.warn(\n",
      "c:\\Users\\yanic\\RAG-and-embeddings-KIA\\.venv\\Lib\\site-packages\\sklearn\\utils\\deprecation.py:151: FutureWarning: 'force_all_finite' was renamed to 'ensure_all_finite' in 1.6 and will be removed in 1.8.\n",
      "  warnings.warn(\n",
      "c:\\Users\\yanic\\RAG-and-embeddings-KIA\\.venv\\Lib\\site-packages\\sklearn\\utils\\deprecation.py:151: FutureWarning: 'force_all_finite' was renamed to 'ensure_all_finite' in 1.6 and will be removed in 1.8.\n",
      "  warnings.warn(\n",
      "c:\\Users\\yanic\\RAG-and-embeddings-KIA\\.venv\\Lib\\site-packages\\sklearn\\utils\\deprecation.py:151: FutureWarning: 'force_all_finite' was renamed to 'ensure_all_finite' in 1.6 and will be removed in 1.8.\n",
      "  warnings.warn(\n",
      "c:\\Users\\yanic\\RAG-and-embeddings-KIA\\.venv\\Lib\\site-packages\\sklearn\\utils\\deprecation.py:151: FutureWarning: 'force_all_finite' was renamed to 'ensure_all_finite' in 1.6 and will be removed in 1.8.\n",
      "  warnings.warn(\n",
      "c:\\Users\\yanic\\RAG-and-embeddings-KIA\\.venv\\Lib\\site-packages\\sklearn\\utils\\deprecation.py:151: FutureWarning: 'force_all_finite' was renamed to 'ensure_all_finite' in 1.6 and will be removed in 1.8.\n",
      "  warnings.warn(\n",
      "c:\\Users\\yanic\\RAG-and-embeddings-KIA\\.venv\\Lib\\site-packages\\sklearn\\utils\\deprecation.py:151: FutureWarning: 'force_all_finite' was renamed to 'ensure_all_finite' in 1.6 and will be removed in 1.8.\n",
      "  warnings.warn(\n",
      "c:\\Users\\yanic\\RAG-and-embeddings-KIA\\.venv\\Lib\\site-packages\\sklearn\\utils\\deprecation.py:151: FutureWarning: 'force_all_finite' was renamed to 'ensure_all_finite' in 1.6 and will be removed in 1.8.\n",
      "  warnings.warn(\n",
      "c:\\Users\\yanic\\RAG-and-embeddings-KIA\\.venv\\Lib\\site-packages\\sklearn\\utils\\deprecation.py:151: FutureWarning: 'force_all_finite' was renamed to 'ensure_all_finite' in 1.6 and will be removed in 1.8.\n",
      "  warnings.warn(\n",
      "c:\\Users\\yanic\\RAG-and-embeddings-KIA\\.venv\\Lib\\site-packages\\sklearn\\utils\\deprecation.py:151: FutureWarning: 'force_all_finite' was renamed to 'ensure_all_finite' in 1.6 and will be removed in 1.8.\n",
      "  warnings.warn(\n",
      "c:\\Users\\yanic\\RAG-and-embeddings-KIA\\.venv\\Lib\\site-packages\\sklearn\\utils\\deprecation.py:151: FutureWarning: 'force_all_finite' was renamed to 'ensure_all_finite' in 1.6 and will be removed in 1.8.\n",
      "  warnings.warn(\n",
      "c:\\Users\\yanic\\RAG-and-embeddings-KIA\\.venv\\Lib\\site-packages\\sklearn\\utils\\deprecation.py:151: FutureWarning: 'force_all_finite' was renamed to 'ensure_all_finite' in 1.6 and will be removed in 1.8.\n",
      "  warnings.warn(\n",
      "c:\\Users\\yanic\\RAG-and-embeddings-KIA\\.venv\\Lib\\site-packages\\sklearn\\utils\\deprecation.py:151: FutureWarning: 'force_all_finite' was renamed to 'ensure_all_finite' in 1.6 and will be removed in 1.8.\n",
      "  warnings.warn(\n",
      "c:\\Users\\yanic\\RAG-and-embeddings-KIA\\.venv\\Lib\\site-packages\\sklearn\\utils\\deprecation.py:151: FutureWarning: 'force_all_finite' was renamed to 'ensure_all_finite' in 1.6 and will be removed in 1.8.\n",
      "  warnings.warn(\n",
      "c:\\Users\\yanic\\RAG-and-embeddings-KIA\\.venv\\Lib\\site-packages\\sklearn\\utils\\deprecation.py:151: FutureWarning: 'force_all_finite' was renamed to 'ensure_all_finite' in 1.6 and will be removed in 1.8.\n",
      "  warnings.warn(\n",
      "c:\\Users\\yanic\\RAG-and-embeddings-KIA\\.venv\\Lib\\site-packages\\sklearn\\utils\\deprecation.py:151: FutureWarning: 'force_all_finite' was renamed to 'ensure_all_finite' in 1.6 and will be removed in 1.8.\n",
      "  warnings.warn(\n",
      "c:\\Users\\yanic\\RAG-and-embeddings-KIA\\.venv\\Lib\\site-packages\\sklearn\\utils\\deprecation.py:151: FutureWarning: 'force_all_finite' was renamed to 'ensure_all_finite' in 1.6 and will be removed in 1.8.\n",
      "  warnings.warn(\n",
      "c:\\Users\\yanic\\RAG-and-embeddings-KIA\\.venv\\Lib\\site-packages\\sklearn\\utils\\deprecation.py:151: FutureWarning: 'force_all_finite' was renamed to 'ensure_all_finite' in 1.6 and will be removed in 1.8.\n",
      "  warnings.warn(\n",
      "c:\\Users\\yanic\\RAG-and-embeddings-KIA\\.venv\\Lib\\site-packages\\sklearn\\utils\\deprecation.py:151: FutureWarning: 'force_all_finite' was renamed to 'ensure_all_finite' in 1.6 and will be removed in 1.8.\n",
      "  warnings.warn(\n",
      "c:\\Users\\yanic\\RAG-and-embeddings-KIA\\.venv\\Lib\\site-packages\\sklearn\\utils\\deprecation.py:151: FutureWarning: 'force_all_finite' was renamed to 'ensure_all_finite' in 1.6 and will be removed in 1.8.\n",
      "  warnings.warn(\n",
      "c:\\Users\\yanic\\RAG-and-embeddings-KIA\\.venv\\Lib\\site-packages\\sklearn\\utils\\deprecation.py:151: FutureWarning: 'force_all_finite' was renamed to 'ensure_all_finite' in 1.6 and will be removed in 1.8.\n",
      "  warnings.warn(\n",
      "Projecting Embeddings:  84%|████████▍ | 212/252 [00:04<00:00, 152.44it/s]c:\\Users\\yanic\\RAG-and-embeddings-KIA\\.venv\\Lib\\site-packages\\sklearn\\utils\\deprecation.py:151: FutureWarning: 'force_all_finite' was renamed to 'ensure_all_finite' in 1.6 and will be removed in 1.8.\n",
      "  warnings.warn(\n",
      "c:\\Users\\yanic\\RAG-and-embeddings-KIA\\.venv\\Lib\\site-packages\\sklearn\\utils\\deprecation.py:151: FutureWarning: 'force_all_finite' was renamed to 'ensure_all_finite' in 1.6 and will be removed in 1.8.\n",
      "  warnings.warn(\n",
      "c:\\Users\\yanic\\RAG-and-embeddings-KIA\\.venv\\Lib\\site-packages\\sklearn\\utils\\deprecation.py:151: FutureWarning: 'force_all_finite' was renamed to 'ensure_all_finite' in 1.6 and will be removed in 1.8.\n",
      "  warnings.warn(\n",
      "c:\\Users\\yanic\\RAG-and-embeddings-KIA\\.venv\\Lib\\site-packages\\sklearn\\utils\\deprecation.py:151: FutureWarning: 'force_all_finite' was renamed to 'ensure_all_finite' in 1.6 and will be removed in 1.8.\n",
      "  warnings.warn(\n",
      "c:\\Users\\yanic\\RAG-and-embeddings-KIA\\.venv\\Lib\\site-packages\\sklearn\\utils\\deprecation.py:151: FutureWarning: 'force_all_finite' was renamed to 'ensure_all_finite' in 1.6 and will be removed in 1.8.\n",
      "  warnings.warn(\n",
      "c:\\Users\\yanic\\RAG-and-embeddings-KIA\\.venv\\Lib\\site-packages\\sklearn\\utils\\deprecation.py:151: FutureWarning: 'force_all_finite' was renamed to 'ensure_all_finite' in 1.6 and will be removed in 1.8.\n",
      "  warnings.warn(\n",
      "c:\\Users\\yanic\\RAG-and-embeddings-KIA\\.venv\\Lib\\site-packages\\sklearn\\utils\\deprecation.py:151: FutureWarning: 'force_all_finite' was renamed to 'ensure_all_finite' in 1.6 and will be removed in 1.8.\n",
      "  warnings.warn(\n",
      "c:\\Users\\yanic\\RAG-and-embeddings-KIA\\.venv\\Lib\\site-packages\\sklearn\\utils\\deprecation.py:151: FutureWarning: 'force_all_finite' was renamed to 'ensure_all_finite' in 1.6 and will be removed in 1.8.\n",
      "  warnings.warn(\n",
      "c:\\Users\\yanic\\RAG-and-embeddings-KIA\\.venv\\Lib\\site-packages\\sklearn\\utils\\deprecation.py:151: FutureWarning: 'force_all_finite' was renamed to 'ensure_all_finite' in 1.6 and will be removed in 1.8.\n",
      "  warnings.warn(\n",
      "c:\\Users\\yanic\\RAG-and-embeddings-KIA\\.venv\\Lib\\site-packages\\sklearn\\utils\\deprecation.py:151: FutureWarning: 'force_all_finite' was renamed to 'ensure_all_finite' in 1.6 and will be removed in 1.8.\n",
      "  warnings.warn(\n",
      "c:\\Users\\yanic\\RAG-and-embeddings-KIA\\.venv\\Lib\\site-packages\\sklearn\\utils\\deprecation.py:151: FutureWarning: 'force_all_finite' was renamed to 'ensure_all_finite' in 1.6 and will be removed in 1.8.\n",
      "  warnings.warn(\n",
      "c:\\Users\\yanic\\RAG-and-embeddings-KIA\\.venv\\Lib\\site-packages\\sklearn\\utils\\deprecation.py:151: FutureWarning: 'force_all_finite' was renamed to 'ensure_all_finite' in 1.6 and will be removed in 1.8.\n",
      "  warnings.warn(\n",
      "c:\\Users\\yanic\\RAG-and-embeddings-KIA\\.venv\\Lib\\site-packages\\sklearn\\utils\\deprecation.py:151: FutureWarning: 'force_all_finite' was renamed to 'ensure_all_finite' in 1.6 and will be removed in 1.8.\n",
      "  warnings.warn(\n",
      "c:\\Users\\yanic\\RAG-and-embeddings-KIA\\.venv\\Lib\\site-packages\\sklearn\\utils\\deprecation.py:151: FutureWarning: 'force_all_finite' was renamed to 'ensure_all_finite' in 1.6 and will be removed in 1.8.\n",
      "  warnings.warn(\n",
      "c:\\Users\\yanic\\RAG-and-embeddings-KIA\\.venv\\Lib\\site-packages\\sklearn\\utils\\deprecation.py:151: FutureWarning: 'force_all_finite' was renamed to 'ensure_all_finite' in 1.6 and will be removed in 1.8.\n",
      "  warnings.warn(\n",
      "c:\\Users\\yanic\\RAG-and-embeddings-KIA\\.venv\\Lib\\site-packages\\sklearn\\utils\\deprecation.py:151: FutureWarning: 'force_all_finite' was renamed to 'ensure_all_finite' in 1.6 and will be removed in 1.8.\n",
      "  warnings.warn(\n",
      "c:\\Users\\yanic\\RAG-and-embeddings-KIA\\.venv\\Lib\\site-packages\\sklearn\\utils\\deprecation.py:151: FutureWarning: 'force_all_finite' was renamed to 'ensure_all_finite' in 1.6 and will be removed in 1.8.\n",
      "  warnings.warn(\n",
      "c:\\Users\\yanic\\RAG-and-embeddings-KIA\\.venv\\Lib\\site-packages\\sklearn\\utils\\deprecation.py:151: FutureWarning: 'force_all_finite' was renamed to 'ensure_all_finite' in 1.6 and will be removed in 1.8.\n",
      "  warnings.warn(\n",
      "c:\\Users\\yanic\\RAG-and-embeddings-KIA\\.venv\\Lib\\site-packages\\sklearn\\utils\\deprecation.py:151: FutureWarning: 'force_all_finite' was renamed to 'ensure_all_finite' in 1.6 and will be removed in 1.8.\n",
      "  warnings.warn(\n",
      "c:\\Users\\yanic\\RAG-and-embeddings-KIA\\.venv\\Lib\\site-packages\\sklearn\\utils\\deprecation.py:151: FutureWarning: 'force_all_finite' was renamed to 'ensure_all_finite' in 1.6 and will be removed in 1.8.\n",
      "  warnings.warn(\n",
      "c:\\Users\\yanic\\RAG-and-embeddings-KIA\\.venv\\Lib\\site-packages\\sklearn\\utils\\deprecation.py:151: FutureWarning: 'force_all_finite' was renamed to 'ensure_all_finite' in 1.6 and will be removed in 1.8.\n",
      "  warnings.warn(\n",
      "c:\\Users\\yanic\\RAG-and-embeddings-KIA\\.venv\\Lib\\site-packages\\sklearn\\utils\\deprecation.py:151: FutureWarning: 'force_all_finite' was renamed to 'ensure_all_finite' in 1.6 and will be removed in 1.8.\n",
      "  warnings.warn(\n",
      "Projecting Embeddings:  93%|█████████▎| 234/252 [00:04<00:00, 164.73it/s]c:\\Users\\yanic\\RAG-and-embeddings-KIA\\.venv\\Lib\\site-packages\\sklearn\\utils\\deprecation.py:151: FutureWarning: 'force_all_finite' was renamed to 'ensure_all_finite' in 1.6 and will be removed in 1.8.\n",
      "  warnings.warn(\n",
      "c:\\Users\\yanic\\RAG-and-embeddings-KIA\\.venv\\Lib\\site-packages\\sklearn\\utils\\deprecation.py:151: FutureWarning: 'force_all_finite' was renamed to 'ensure_all_finite' in 1.6 and will be removed in 1.8.\n",
      "  warnings.warn(\n",
      "c:\\Users\\yanic\\RAG-and-embeddings-KIA\\.venv\\Lib\\site-packages\\sklearn\\utils\\deprecation.py:151: FutureWarning: 'force_all_finite' was renamed to 'ensure_all_finite' in 1.6 and will be removed in 1.8.\n",
      "  warnings.warn(\n",
      "c:\\Users\\yanic\\RAG-and-embeddings-KIA\\.venv\\Lib\\site-packages\\sklearn\\utils\\deprecation.py:151: FutureWarning: 'force_all_finite' was renamed to 'ensure_all_finite' in 1.6 and will be removed in 1.8.\n",
      "  warnings.warn(\n",
      "c:\\Users\\yanic\\RAG-and-embeddings-KIA\\.venv\\Lib\\site-packages\\sklearn\\utils\\deprecation.py:151: FutureWarning: 'force_all_finite' was renamed to 'ensure_all_finite' in 1.6 and will be removed in 1.8.\n",
      "  warnings.warn(\n",
      "c:\\Users\\yanic\\RAG-and-embeddings-KIA\\.venv\\Lib\\site-packages\\sklearn\\utils\\deprecation.py:151: FutureWarning: 'force_all_finite' was renamed to 'ensure_all_finite' in 1.6 and will be removed in 1.8.\n",
      "  warnings.warn(\n",
      "c:\\Users\\yanic\\RAG-and-embeddings-KIA\\.venv\\Lib\\site-packages\\sklearn\\utils\\deprecation.py:151: FutureWarning: 'force_all_finite' was renamed to 'ensure_all_finite' in 1.6 and will be removed in 1.8.\n",
      "  warnings.warn(\n",
      "c:\\Users\\yanic\\RAG-and-embeddings-KIA\\.venv\\Lib\\site-packages\\sklearn\\utils\\deprecation.py:151: FutureWarning: 'force_all_finite' was renamed to 'ensure_all_finite' in 1.6 and will be removed in 1.8.\n",
      "  warnings.warn(\n",
      "c:\\Users\\yanic\\RAG-and-embeddings-KIA\\.venv\\Lib\\site-packages\\sklearn\\utils\\deprecation.py:151: FutureWarning: 'force_all_finite' was renamed to 'ensure_all_finite' in 1.6 and will be removed in 1.8.\n",
      "  warnings.warn(\n",
      "c:\\Users\\yanic\\RAG-and-embeddings-KIA\\.venv\\Lib\\site-packages\\sklearn\\utils\\deprecation.py:151: FutureWarning: 'force_all_finite' was renamed to 'ensure_all_finite' in 1.6 and will be removed in 1.8.\n",
      "  warnings.warn(\n",
      "c:\\Users\\yanic\\RAG-and-embeddings-KIA\\.venv\\Lib\\site-packages\\sklearn\\utils\\deprecation.py:151: FutureWarning: 'force_all_finite' was renamed to 'ensure_all_finite' in 1.6 and will be removed in 1.8.\n",
      "  warnings.warn(\n",
      "c:\\Users\\yanic\\RAG-and-embeddings-KIA\\.venv\\Lib\\site-packages\\sklearn\\utils\\deprecation.py:151: FutureWarning: 'force_all_finite' was renamed to 'ensure_all_finite' in 1.6 and will be removed in 1.8.\n",
      "  warnings.warn(\n",
      "c:\\Users\\yanic\\RAG-and-embeddings-KIA\\.venv\\Lib\\site-packages\\sklearn\\utils\\deprecation.py:151: FutureWarning: 'force_all_finite' was renamed to 'ensure_all_finite' in 1.6 and will be removed in 1.8.\n",
      "  warnings.warn(\n",
      "c:\\Users\\yanic\\RAG-and-embeddings-KIA\\.venv\\Lib\\site-packages\\sklearn\\utils\\deprecation.py:151: FutureWarning: 'force_all_finite' was renamed to 'ensure_all_finite' in 1.6 and will be removed in 1.8.\n",
      "  warnings.warn(\n",
      "c:\\Users\\yanic\\RAG-and-embeddings-KIA\\.venv\\Lib\\site-packages\\sklearn\\utils\\deprecation.py:151: FutureWarning: 'force_all_finite' was renamed to 'ensure_all_finite' in 1.6 and will be removed in 1.8.\n",
      "  warnings.warn(\n",
      "c:\\Users\\yanic\\RAG-and-embeddings-KIA\\.venv\\Lib\\site-packages\\sklearn\\utils\\deprecation.py:151: FutureWarning: 'force_all_finite' was renamed to 'ensure_all_finite' in 1.6 and will be removed in 1.8.\n",
      "  warnings.warn(\n",
      "c:\\Users\\yanic\\RAG-and-embeddings-KIA\\.venv\\Lib\\site-packages\\sklearn\\utils\\deprecation.py:151: FutureWarning: 'force_all_finite' was renamed to 'ensure_all_finite' in 1.6 and will be removed in 1.8.\n",
      "  warnings.warn(\n",
      "c:\\Users\\yanic\\RAG-and-embeddings-KIA\\.venv\\Lib\\site-packages\\sklearn\\utils\\deprecation.py:151: FutureWarning: 'force_all_finite' was renamed to 'ensure_all_finite' in 1.6 and will be removed in 1.8.\n",
      "  warnings.warn(\n",
      "Projecting Embeddings: 100%|██████████| 252/252 [00:04<00:00, 55.49it/s] "
     ]
    },
    {
     "name": "stdout",
     "output_type": "stream",
     "text": [
      "Projected dataset embeddings shape: (252, 2)\n"
     ]
    },
    {
     "name": "stderr",
     "output_type": "stream",
     "text": [
      "\n"
     ]
    }
   ],
   "source": [
    "# Project the entire dataset embeddings\n",
    "projected_dataset_embeddings = project_embeddings(chunk_embeddings, umap_transform)\n",
    "print(\"Projected dataset embeddings shape:\", projected_dataset_embeddings.shape)"
   ]
  },
  {
   "cell_type": "markdown",
   "metadata": {},
   "source": [
    "## 7. Querying the Vector Store and Projecting Results\n",
    "\n",
    "We now define a retrieval function that takes a text query, embeds it, and searches our FAISS index for similar documents. We then project these result embeddings with UMAP.\n",
    "\"\"\""
   ]
  },
  {
   "cell_type": "code",
   "execution_count": 22,
   "metadata": {},
   "outputs": [],
   "source": [
    "def retrieve(query, k=5):\n",
    "    \"\"\"\n",
    "    Retrieve the top k similar text chunks and their embeddings for a given query.\n",
    "    \"\"\"\n",
    "    query_embedding = model.encode([query], convert_to_numpy=True)\n",
    "    distances, indices = index.search(query_embedding, k)\n",
    "    retrieved_texts = [token_split_texts[i] for i in indices[0]]\n",
    "    retrieved_embeddings = np.array([chunk_embeddings[i] for i in indices[0]])\n",
    "    return retrieved_texts, retrieved_embeddings, distances[0]"
   ]
  },
  {
   "cell_type": "code",
   "execution_count": 23,
   "metadata": {},
   "outputs": [
    {
     "name": "stdout",
     "output_type": "stream",
     "text": [
      "Retrieved document preview:\n",
      "(2012). Die Chefs von morgen: Kompetent und kritisch. io Management, 2012(5), 12-15. Zitierleitfaden | 19 Zitierleitfaden | 20 Generative Systeme, die auf Künstlicher Intelligenz (KI) basieren, gehören zunehmend zur neuen Studien- und Berufsrealität von Lehrenden und Lernenden. Die Richtlinie KI bei\n"
     ]
    }
   ],
   "source": [
    "query = \"KI während der Bachelorarbeit\"\n",
    "results, result_embeddings, distances = retrieve(query, k=3)\n",
    "print(\"Retrieved document preview:\")\n",
    "print(results[0][:300])"
   ]
  },
  {
   "cell_type": "code",
   "execution_count": 24,
   "metadata": {},
   "outputs": [
    {
     "name": "stderr",
     "output_type": "stream",
     "text": [
      "Projecting Embeddings:   0%|          | 0/3 [00:00<?, ?it/s]c:\\Users\\yanic\\RAG-and-embeddings-KIA\\.venv\\Lib\\site-packages\\sklearn\\utils\\deprecation.py:151: FutureWarning: 'force_all_finite' was renamed to 'ensure_all_finite' in 1.6 and will be removed in 1.8.\n",
      "  warnings.warn(\n",
      "c:\\Users\\yanic\\RAG-and-embeddings-KIA\\.venv\\Lib\\site-packages\\sklearn\\utils\\deprecation.py:151: FutureWarning: 'force_all_finite' was renamed to 'ensure_all_finite' in 1.6 and will be removed in 1.8.\n",
      "  warnings.warn(\n",
      "c:\\Users\\yanic\\RAG-and-embeddings-KIA\\.venv\\Lib\\site-packages\\sklearn\\utils\\deprecation.py:151: FutureWarning: 'force_all_finite' was renamed to 'ensure_all_finite' in 1.6 and will be removed in 1.8.\n",
      "  warnings.warn(\n",
      "Projecting Embeddings: 100%|██████████| 3/3 [00:00<00:00, 129.17it/s]\n",
      "Projecting Embeddings:   0%|          | 0/1 [00:00<?, ?it/s]c:\\Users\\yanic\\RAG-and-embeddings-KIA\\.venv\\Lib\\site-packages\\sklearn\\utils\\deprecation.py:151: FutureWarning: 'force_all_finite' was renamed to 'ensure_all_finite' in 1.6 and will be removed in 1.8.\n",
      "  warnings.warn(\n",
      "Projecting Embeddings: 100%|██████████| 1/1 [00:00<00:00, 243.12it/s]\n"
     ]
    }
   ],
   "source": [
    "# Project the result embeddings\n",
    "projected_result_embeddings = project_embeddings(result_embeddings, umap_transform)\n",
    "\n",
    "# Also embed and project the original query for visualization\n",
    "query_embedding = model.encode([query], convert_to_numpy=True)\n",
    "project_original_query = project_embeddings(query_embedding, umap_transform)"
   ]
  },
  {
   "cell_type": "markdown",
   "metadata": {},
   "source": [
    "## 8. Visualizing the Results\n",
    "\n",
    "Finally, we create a scatter plot to visualize the entire dataset, the retrieved results, and the original query in 2D space."
   ]
  },
  {
   "cell_type": "code",
   "execution_count": 25,
   "metadata": {},
   "outputs": [
    {
     "data": {
      "image/png": "[encoded data removed]",
      "text/plain": [
       "<Figure size 640x480 with 1 Axes>"
      ]
     },
     "metadata": {},
     "output_type": "display_data"
    }
   ],
   "source": [
    "\n",
    "def shorten_text(text, max_length=15):\n",
    "    \"\"\"Shortens text to max_length and adds an ellipsis if shortened.\"\"\"\n",
    "    return (text[:max_length] + '...') if len(text) > max_length else text\n",
    "\n",
    "plt.figure()\n",
    "\n",
    "# Scatter plots\n",
    "plt.scatter(projected_dataset_embeddings[:, 0], projected_dataset_embeddings[:, 1],\n",
    "            s=10, color='gray', label='Dataset')\n",
    "plt.scatter(projected_result_embeddings[:, 0], projected_result_embeddings[:, 1],\n",
    "            s=100, facecolors='none', edgecolors='g', label='Results')\n",
    "plt.scatter(project_original_query[:, 0], project_original_query[:, 1],\n",
    "            s=150, marker='X', color='r', label='Original Query')\n",
    "\n",
    "# If results is a list of texts, iterate directly\n",
    "for i, text in enumerate(results):\n",
    "    if i < len(projected_result_embeddings):\n",
    "        plt.annotate(shorten_text(text),\n",
    "                     (projected_result_embeddings[i, 0], projected_result_embeddings[i, 1]),\n",
    "                     fontsize=8)\n",
    "\n",
    "# Annotate the original query point\n",
    "original_query_text = 'Welche hilfsmittel sind erlaubt?'  # Replace with your actual query text if needed\n",
    "original_query_text = 'Wieviele Seiten muss die Arbeit sein?'  # Replace with your actual query text if needed\n",
    "\n",
    "plt.annotate(shorten_text(original_query_text),\n",
    "             (project_original_query[0, 0], project_original_query[0, 1]),\n",
    "             fontsize=8)\n",
    "\n",
    "plt.gca().set_aspect('equal', 'datalim')\n",
    "plt.title('Visualization')\n",
    "plt.legend()\n",
    "plt.show()\n"
   ]
  },
  {
   "cell_type": "markdown",
   "metadata": {},
   "source": [
    "---"
   ]
  },
  {
   "cell_type": "markdown",
   "metadata": {},
   "source": [
    "# 📝 Task: Semantic Retrieval-Augmented Question Answering Using Groq LLM\n",
    "\n",
    "## Objective\n",
    "Implement a question-answering system that:\n",
    "1. Retrieves the most semantically relevant text passages to a user query.\n",
    "2. Constructs a natural language prompt based on the retrieved content.\n",
    "3. Uses a large language model (LLM) hosted by Groq to generate an answer.\n",
    "\n",
    "---\n",
    "\n",
    "## Task Breakdown\n",
    "\n",
    "### 1. Embedding-Based Semantic Retrieval\n",
    "- Use the `SentenceTransformer` model `\"Sahajtomar/German-semantic\"` to encode a user query into a dense vector embedding.\n",
    "- Perform a nearest-neighbor search in a prebuilt FAISS index to retrieve the top-**k** similar text chunks. You can **use the prebuilt FAISS form above**.\n",
    "\n",
    "\n",
    "### 2. LLM Prompt Construction and Query Answering\n",
    "- Build the prompt:\n",
    "  - Using the retrieved text chunks, concatenates the results into a context block.\n",
    "  - Builds a **prompt** asking the LLM to answer the question using that context.\n",
    "  - Sends the prompt to the **Groq LLM API** (`llama-3.3-70b-versatile`) and returns the response.\n",
    "\n",
    "### 3. User Query Execution\n",
    "- An example query (`\"What is the most important factor in diagnosing asthma?\"`) is used to demonstrate the pipeline.\n",
    "- The final answer from the LLM is printed.\n",
    "\n",
    "\n",
    "## Tools & Models Used\n",
    "- **SentenceTransformers** (`Sahajtomar/German-semantic`) for embedding generation.\n",
    "- **FAISS** for efficient vector similarity search.\n",
    "- **Groq LLM API** (`llama-3.3-70b-versatile`) for generating the final response.\n"
   ]
  },
  {
   "cell_type": "code",
   "execution_count": 26,
   "metadata": {},
   "outputs": [
    {
     "name": "stdout",
     "output_type": "stream",
     "text": [
      "LLM Prompt:\n",
      "Please answer the following question based on the provided context.\n",
      "\n",
      "Context:\n",
      "(2012). Die Chefs von morgen: Kompetent und kritisch. io Management, 2012(5), 12-15. Zitierleitfaden | 19 Zitierleitfaden | 20 Generative Systeme, die auf Künstlicher Intelligenz (KI) basieren, gehören zunehmend zur neuen Studien- und Berufsrealität von Lehrenden und Lernenden. Die Richtlinie KI bei Leistungsnach- weisen der Zürcher Hochschule für Angewandte Wissenschaften (ZHAW) regelt den Umgang mit KI. Ein Verbot generativer KI-Systeme bei der Erstellung von Arbeiten ist weder\n",
      "\n",
      "Die Nutzung von generativen KI -Systemen ist vorgängig mit der Betreuungsperson zu besprechen und in der Arbeit offenzulegen . Als generative KI -Systeme gelten digitale Werkzeuge, deren Technologien auf maschinellem Lernen beruhen (künstliche Intelligenz /KI). W-MB-Merkblatt Bachelorarbeit BSc Version: 3.1.1 gültig ab: 01.08.202 4 Seite 10 von 11 School of Management and Law Für die Offenlegung gilt im Minimum: − Bei wortwörtlicher, paraphrasierender oder sinngemässer Übernahme von Output aus genera\n",
      "\n",
      "generativer KI bei Arbeiten Version: 1.2.0 gültig ab: 01.03.2025 Seite 1 von 5 Rektorat Ressort Bildung Verwendung von generativer KI bei Arbeiten Dieses Merkblatt basiert auf : − Richtlinie KI bei Leistungsnachweisen − ergänzender Anhang 1. Grundsatz Grundsätzlich gilt, dass die Verwendung von generativen KI -Tools bei Arbeiten zu de- klarieren ist. Dieses Merkblatt hilft Ihnen Schritt -für-Schritt bei der korrekten Umset- zung. 2. Pflichten im Umgang Ihre Pflichten im Umgang mit generativer KI − Sie tragen Verantwortung für die Qualität der Inhalte : Auch\n",
      "\n",
      "Question:\n",
      "Wie muss ich meine Bachelorarbeit abgeben?\n",
      "\n",
      "Answer:\n",
      "Groq API key is not set. Please set GROQ_API_KEY in your .env file.\n"
     ]
    }
   ],
   "source": [
    "load_dotenv()\n",
    "groq_api_key = os.getenv(\"GROQ_API_KEY\")\n",
    "\n",
    "# Verwende die abgerufenen Ergebnisse (results) zur Konstruierung des Kontextblocks:\n",
    "context = \"\\n\\n\".join(results)\n",
    "\n",
    "query = \"Wie muss ich meine Bachelorarbeit abgeben?\"\n",
    "results, result_embeddings, distances = retrieve(query, k=3)\n",
    "\n",
    "# Aufbau des LLM-Prompts mithilfe des abgerufenen Kontextes\n",
    "prompt = (\n",
    "    \"Please answer the following question based on the provided context.\\n\\n\"\n",
    "    \"Context:\\n\"\n",
    "    f\"{context}\\n\\n\"\n",
    "    \"Question:\\n\"\n",
    "    f\"{query}\\n\\n\"\n",
    "    \"Answer:\"\n",
    ")\n",
    "\n",
    "print(\"LLM Prompt:\")\n",
    "print(prompt)\n",
    "\n",
    "# Sende den Prompt an die Groq LLM API, sofern der API-Key vorhanden ist\n",
    "if groq_api_key is None:\n",
    "    print(\"Groq API key is not set. Please set GROQ_API_KEY in your .env file.\")\n",
    "else:\n",
    "    groq_client = Groq(api_key=groq_api_key)\n",
    "    response = groq_client.chat.completions.create(\n",
    "        messages=[{\"role\": \"user\", \"content\": prompt}],\n",
    "        model=\"llama-3.3-70b-versatile\",\n",
    "    )\n",
    "    print(\"LLM Response:\")\n",
    "    print(response.choices[0].message.content)"
   ]
  }
 ],
 "metadata": {
  "kernelspec": {
   "display_name": ".venv",
   "language": "python",
   "name": "python3"
  },
  "language_info": {
   "codemirror_mode": {
    "name": "ipython",
    "version": 3
   },
   "file_extension": ".py",
   "mimetype": "text/x-python",
   "name": "python",
   "nbconvert_exporter": "python",
   "pygments_lexer": "ipython3",
   "version": "3.13.2"
  }
 },
 "nbformat": 4,
 "nbformat_minor": 2
}
